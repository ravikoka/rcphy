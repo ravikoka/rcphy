{
 "cells": [
  {
   "cell_type": "code",
   "execution_count": 1,
   "metadata": {},
   "outputs": [],
   "source": [
    "import numpy as np\n",
    "import matplotlib.pyplot as plt\n",
    "from numba import njit"
   ]
  },
  {
   "cell_type": "markdown",
   "metadata": {},
   "source": [
    "I'm borrowing the template code from class. The source code can be found here: https://www.physics.rutgers.edu/grad/509/Wang%20Landau.html"
   ]
  },
  {
   "cell_type": "code",
   "execution_count": 2,
   "metadata": {},
   "outputs": [],
   "source": [
    "@njit\n",
    "def CEnergy(latt):\n",
    "    \"Energy of configuration for the 2D Ising model\"\n",
    "    N = np.shape(latt)[0]\n",
    "    Ene = 0\n",
    "    for i in range(len(latt)):\n",
    "        for j in range(len(latt)):\n",
    "            S = latt[i,j]   # Spin, can be either +1 or -1\n",
    "            WF = latt[(i+1)%N,j]+latt[i,(j+1)%N]+latt[(i-1)%N,j]+latt[i,(j-1)%N]\n",
    "            Ene += -S * WF\n",
    "    return Ene/2.\n",
    "\n",
    "def RandomL(N):\n",
    "    \"Random lattice corresponding to infinite temperature\"\n",
    "    return np.array(np.sign(2*np.random.random((N,N))-1),dtype=int) "
   ]
  },
  {
   "cell_type": "code",
   "execution_count": 3,
   "metadata": {},
   "outputs": [],
   "source": [
    "def PrepareEnergies(N):\n",
    "    Energies = (np.array(4*np.arange(-int(N*N/2),int(N*N/2)+1),dtype=int)).tolist() # -2 N^2...2N^2 in steps of 4\n",
    "    #Energies = range(-2*N*N,2*N*N,4)\n",
    "    Energies.pop(1)  # take out E[1]\n",
    "    Energies.pop(-2) # take out E[-2]\n",
    "    Energies = np.array(Energies) # make array of energies again\n",
    "    Emin, Emax = Energies[0],Energies[-1]\n",
    "    #index array to energies\n",
    "    indE = -np.ones(Emax+1-Emin, dtype=int) # index table to get index to particular energy g(E)~g[indE[E]]\n",
    "    for i,E in enumerate(Energies):\n",
    "        indE[E-Emin]=i\n",
    "    # Ising lattice at infinite T\n",
    "    ## g(E) we know E = -2*N^2,2*N^2 in steps of 4...\n",
    "    return (Energies, indE, Emin)"
   ]
  },
  {
   "cell_type": "code",
   "execution_count": 4,
   "metadata": {},
   "outputs": [
    {
     "name": "stdout",
     "output_type": "stream",
     "text": [
      "Emin= -200\n",
      "[-200 -192 -188 -184 -180 -176 -172 -168 -164 -160 -156 -152 -148 -144\n",
      " -140 -136 -132 -128 -124 -120 -116 -112 -108 -104 -100  -96  -92  -88\n",
      "  -84  -80  -76  -72  -68  -64  -60  -56  -52  -48  -44  -40  -36  -32\n",
      "  -28  -24  -20  -16  -12   -8   -4    0    4    8   12   16   20   24\n",
      "   28   32   36   40   44   48   52   56   60   64   68   72   76   80\n",
      "   84   88   92   96  100  104  108  112  116  120  124  128  132  136\n",
      "  140  144  148  152  156  160  164  168  172  176  180  184  188  192\n",
      "  200]\n",
      "[ 0 -1 -1 -1 -1 -1 -1 -1  1 -1 -1 -1  2 -1 -1 -1  3 -1 -1 -1  4 -1 -1 -1\n",
      "  5 -1 -1 -1  6 -1 -1 -1  7 -1 -1 -1  8 -1 -1 -1  9 -1 -1 -1 10 -1 -1 -1\n",
      " 11 -1 -1 -1 12 -1 -1 -1 13 -1 -1 -1 14 -1 -1 -1 15 -1 -1 -1 16 -1 -1 -1\n",
      " 17 -1 -1 -1 18 -1 -1 -1 19 -1 -1 -1 20 -1 -1 -1 21 -1 -1 -1 22 -1 -1 -1\n",
      " 23 -1 -1 -1 24 -1 -1 -1 25 -1 -1 -1 26 -1 -1 -1 27 -1 -1 -1 28 -1 -1 -1\n",
      " 29 -1 -1 -1 30 -1 -1 -1 31 -1 -1 -1 32 -1 -1 -1 33 -1 -1 -1 34 -1 -1 -1\n",
      " 35 -1 -1 -1 36 -1 -1 -1 37 -1 -1 -1 38 -1 -1 -1 39 -1 -1 -1 40 -1 -1 -1\n",
      " 41 -1 -1 -1 42 -1 -1 -1 43 -1 -1 -1 44 -1 -1 -1 45 -1 -1 -1 46 -1 -1 -1\n",
      " 47 -1 -1 -1 48 -1 -1 -1 49 -1 -1 -1 50 -1 -1 -1 51 -1 -1 -1 52 -1 -1 -1\n",
      " 53 -1 -1 -1 54 -1 -1 -1 55 -1 -1 -1 56 -1 -1 -1 57 -1 -1 -1 58 -1 -1 -1\n",
      " 59 -1 -1 -1 60 -1 -1 -1 61 -1 -1 -1 62 -1 -1 -1 63 -1 -1 -1 64 -1 -1 -1\n",
      " 65 -1 -1 -1 66 -1 -1 -1 67 -1 -1 -1 68 -1 -1 -1 69 -1 -1 -1 70 -1 -1 -1\n",
      " 71 -1 -1 -1 72 -1 -1 -1 73 -1 -1 -1 74 -1 -1 -1 75 -1 -1 -1 76 -1 -1 -1\n",
      " 77 -1 -1 -1 78 -1 -1 -1 79 -1 -1 -1 80 -1 -1 -1 81 -1 -1 -1 82 -1 -1 -1\n",
      " 83 -1 -1 -1 84 -1 -1 -1 85 -1 -1 -1 86 -1 -1 -1 87 -1 -1 -1 88 -1 -1 -1\n",
      " 89 -1 -1 -1 90 -1 -1 -1 91 -1 -1 -1 92 -1 -1 -1 93 -1 -1 -1 94 -1 -1 -1\n",
      " 95 -1 -1 -1 96 -1 -1 -1 97 -1 -1 -1 -1 -1 -1 -1 98]\n"
     ]
    }
   ],
   "source": [
    "Ene,indE,Emin = PrepareEnergies(10)\n",
    "print('Emin=',Emin)\n",
    "print(Ene)\n",
    "print(indE)"
   ]
  },
  {
   "cell_type": "code",
   "execution_count": 5,
   "metadata": {},
   "outputs": [],
   "source": [
    "@njit\n",
    "def RunWangLandau(Nitt,Energies,latt,indE):\n",
    "    N   = len(latt)\n",
    "    Ene = int(CEnergy(latt))\n",
    "    #min,maximum energy\n",
    "    Emin, Emax = Energies[0],Energies[-1]\n",
    "    # Logarithm of the density of states\n",
    "    lngE = np.zeros(len(Energies))\n",
    "    # Histogram\n",
    "    Hist = np.zeros(len(Energies))\n",
    "    # modification factor\n",
    "    lnf = 1.0   # f = exp(lnf)=e\n",
    "    N2 = N*N\n",
    "    for itt in range(Nitt):\n",
    "        t = int(np.random.rand()*N2)\n",
    "        (i, j) = (int(t/N), t%N)\n",
    "        S = latt[i,j]\n",
    "        WF = latt[(i+1)%N,j]+latt[i,(j+1)%N]+latt[(i-1)%N,j]+latt[i,(j-1)%N]\n",
    "        Enew = Ene + int(2*S*WF) # the energy change if we flip the spin\n",
    "        # P = g(E)/g(Enew) = exp(log(g(E))-log(g(Enew)))\n",
    "        # P = exp(lngE(E)-lngE(Enew))\n",
    "        lgnew = lngE[indE[Enew-Emin]] # log(g(Enew))\n",
    "        lgold = lngE[indE[Ene-Emin]]  # log(g(Eold))\n",
    "        P = 1.0\n",
    "        if lgold-lgnew < 0 : P=np.exp(lgold-lgnew) # P = g_old/g_new = exp(log(g_old)-log(g_new))\n",
    "        if P > np.random.rand():\n",
    "            # accept the step\n",
    "            latt[i,j] = -S\n",
    "            Ene = Enew\n",
    "        Hist[indE[Ene-Emin]] += 1\n",
    "        lngE[indE[Ene-Emin]] += lnf   # g(E) -> g(E)*f hence log(g(E)) -> log(g(E))+log(f)\n",
    "        \n",
    "        if (itt+1) % 1000 == 0: # checking for flatness of the histogram\n",
    "            aH = sum(Hist)/N2 # average\n",
    "            mH = min(Hist)\n",
    "            if mH > aH*flatness:  # histogram is flat\n",
    "                Hist[:] = 0\n",
    "                lnf /= 2.\n",
    "                print(itt, 'histogram is flat', mH, aH, 'f=', np.exp(lnf))\n",
    "    return (lngE, Hist)"
   ]
  },
  {
   "cell_type": "code",
   "execution_count": 6,
   "metadata": {},
   "outputs": [],
   "source": [
    "def WangLandau(Nitt, N, flatness):\n",
    "    \"Wang Landau in Python\"\n",
    "    (Energies, indE, Emin) = PrepareEnergies(N)\n",
    "    latt = RandomL(N)\n",
    "    return RunWangLandau(Nitt,Energies,latt,indE)"
   ]
  },
  {
   "cell_type": "code",
   "execution_count": 7,
   "metadata": {},
   "outputs": [
    {
     "name": "stdout",
     "output_type": "stream",
     "text": [
      "72933999 histogram is flat 64467.0 71224.609375 f= 1.6487212707001282\n",
      "87120999 histogram is flat 12474.0 13854.4921875 f= 1.2840254166877414\n",
      "104393999 histogram is flat 15185.0 16868.1640625 f= 1.1331484530668263\n",
      "121845999 histogram is flat 15342.0 17042.96875 f= 1.0644944589178593\n",
      "140065999 histogram is flat 16032.0 17792.96875 f= 1.0317434074991028\n",
      "151755999 histogram is flat 10285.0 11416.015625 f= 1.0157477085866857\n",
      "166512999 histogram is flat 12976.0 14411.1328125 f= 1.007843097206448\n",
      "185689999 histogram is flat 16858.0 18727.5390625 f= 1.0039138893383475\n",
      "204252999 histogram is flat 16323.0 18127.9296875 f= 1.0019550335910028\n",
      "227952999 histogram is flat 20853.0 23144.53125 f= 1.0009770394924165\n",
      "258729999 histogram is flat 27060.0 30055.6640625 f= 1.0004884004786945\n",
      "310087999 histogram is flat 45158.0 50154.296875 f= 1.0002441704297478\n",
      "380141999 histogram is flat 61970.0 68412.109375 f= 1.0001220777633837\n",
      "468294999 histogram is flat 77501.0 86086.9140625 f= 1.0000610370189331\n",
      "700656999 histogram is flat 204307.0 226916.015625 f= 1.000030518043791\n",
      "Done\n"
     ]
    }
   ],
   "source": [
    "flatness = 0.9\n",
    "N = 32\n",
    "Nitt = int(10e8)\n",
    "\n",
    "#N=10\n",
    "#Nitt = int(10e6)\n",
    "\n",
    "(lngE, Hist) = WangLandau(Nitt, N, flatness)\n",
    "print('Done')"
   ]
  },
  {
   "cell_type": "code",
   "execution_count": 8,
   "metadata": {},
   "outputs": [
    {
     "data": {
      "text/plain": [
       "(86198.1813659668, 86196.58374023438)"
      ]
     },
     "execution_count": 8,
     "metadata": {},
     "output_type": "execute_result"
    }
   ],
   "source": [
    "lngE[0],lngE[-1]"
   ]
  },
  {
   "cell_type": "code",
   "execution_count": 9,
   "metadata": {},
   "outputs": [],
   "source": [
    "# Proper normalization of the Density of states\n",
    "# g *= 4/(g[0]+g[-1]) = 4/(g[-1]*(1+g[0]/g[-1]))\n",
    "# g = g * 4/(g[-1]*(1+g[0]/g[-1]))\n",
    "# log(g) = log(g) + log(4)-log(g[-1]) - log(1+g[0]/g[-1])\n",
    "# log(g) += log(4)-log(g[-1])-log(1+exp(log(g[0])-log(g[-1])))\n",
    "# \n",
    "if lngE[-1]>lngE[0]:\n",
    "    lgC = np.log(4)-lngE[-1]-np.log(1+np.exp(lngE[0]-lngE[-1]))\n",
    "else:\n",
    "    lgC = np.log(4)-lngE[0]-np.log(1+np.exp(lngE[-1]-lngE[0]))\n",
    "\n",
    "lngE += lgC"
   ]
  },
  {
   "cell_type": "code",
   "execution_count": 10,
   "metadata": {},
   "outputs": [
    {
     "data": {
      "text/plain": [
       "(3.9999999999997065, 3.3267451474274186, 0.673254852572288)"
      ]
     },
     "execution_count": 10,
     "metadata": {},
     "output_type": "execute_result"
    }
   ],
   "source": [
    "np.exp(lngE[0])+np.exp(lngE[-1]), np.exp(lngE[0]), np.exp(lngE[-1])  # g[0]+g[-1]"
   ]
  },
  {
   "cell_type": "code",
   "execution_count": 11,
   "metadata": {},
   "outputs": [
    {
     "data": {
      "text/plain": [
       "[<matplotlib.lines.Line2D at 0x1633f1400>]"
      ]
     },
     "execution_count": 11,
     "metadata": {},
     "output_type": "execute_result"
    },
    {
     "data": {
      "image/png": "[encoded data removed]",
      "text/plain": [
       "<Figure size 640x480 with 1 Axes>"
      ]
     },
     "metadata": {},
     "output_type": "display_data"
    }
   ],
   "source": [
    "plt.plot(lngE)"
   ]
  },
  {
   "cell_type": "code",
   "execution_count": 12,
   "metadata": {},
   "outputs": [],
   "source": [
    "(Energies, indE, Emin) = PrepareEnergies(N)\n",
    "\n",
    "def Thermod(T, lngE, Energies, N):\n",
    "    Z = 0.\n",
    "    Ev = 0.  # <E>\n",
    "    E2v = 0. # <E^2>\n",
    "    # <E^n> = sum_E e^(-E/T)*g[E] E^n /Z\n",
    "    # Zw = Z/Z_0\n",
    "    # <E^n> = Z0/Z sum_E e^(-(E-Emin)/T) g[E]/g[0] E^N\n",
    "    for i,E in enumerate(Energies):\n",
    "        # Z += exp(log(g)) * exp(-E/T)\n",
    "        # Z/Z_0 = w where Z_0 = g[0] exp(-Energies[0]/T)\n",
    "        w = np.exp(lngE[i]-lngE[0]-(E-Energies[0])/T) # g(E)/g0 Exp(-(E-E0)/T)\n",
    "        Z += w\n",
    "        Ev += w*E\n",
    "        E2v += w*E**2\n",
    "    Ev *= 1./Z\n",
    "    E2v *= 1./Z\n",
    "    cv = (E2v-Ev**2)/T**2\n",
    "    # Z_correct = Z * exp(lngE[0]-Energies[0]/T)\n",
    "    # Entropy = log(Z_correct) + <E>/T = log(Z) + lngE[0]-Energies[0]/T + Ev/T\n",
    "    Entropy = np.log(Z)+lngE[0]+Ev/T-Energies[0]/T\n",
    "    return (Ev/(N**2), cv/(N**2), Entropy/(N**2))"
   ]
  },
  {
   "cell_type": "code",
   "execution_count": 13,
   "metadata": {},
   "outputs": [],
   "source": [
    "Te = np.linspace(0.5,4.,300)\n",
    "\n",
    "Thm=[]\n",
    "for T in Te:\n",
    "    Thm.append(Thermod(T, lngE, Energies, N))\n",
    "Thm = np.array(Thm)"
   ]
  },
  {
   "cell_type": "code",
   "execution_count": 14,
   "metadata": {},
   "outputs": [
    {
     "data": {
      "text/plain": [
       "<matplotlib.legend.Legend at 0x1633f0b30>"
      ]
     },
     "execution_count": 14,
     "metadata": {},
     "output_type": "execute_result"
    },
    {
     "data": {
      "image/png": "[encoded data removed]",
      "text/plain": [
       "<Figure size 640x480 with 1 Axes>"
      ]
     },
     "metadata": {},
     "output_type": "display_data"
    }
   ],
   "source": [
    "plt.plot(Te, Thm[:,0], label='E(T)')\n",
    "plt.plot(Te, Thm[:,1], label='cv(T)')\n",
    "plt.plot(Te, Thm[:,2], label='Entropy(T)')\n",
    "plt.xlabel('T')\n",
    "plt.legend(loc='best')"
   ]
  },
  {
   "cell_type": "code",
   "execution_count": 15,
   "metadata": {},
   "outputs": [
    {
     "name": "stdout",
     "output_type": "stream",
     "text": [
      "Entropy(T=0.500)=0.001176 Entropy(T=4.000)=0.894 * log(2)\n"
     ]
    }
   ],
   "source": [
    "print('Entropy(T=%5.3f)=%8.6f Entropy(T=%5.3f)=%5.3f * log(2)' % (Te[0],Thm[0,2],Te[-1],Thm[-1,2]/np.log(2)))"
   ]
  },
  {
   "cell_type": "markdown",
   "metadata": {},
   "source": [
    "# Wang-Landau Homework"
   ]
  },
  {
   "cell_type": "code",
   "execution_count": 16,
   "metadata": {},
   "outputs": [
    {
     "name": "stdout",
     "output_type": "stream",
     "text": [
      "66359999 histogram is flat 58418.0 64804.6875 f= 1.6487212707001282\n",
      "78012999 histogram is flat 10254.0 11379.8828125 f= 1.2840254166877414\n",
      "93060999 histogram is flat 13242.0 14695.3125 f= 1.1331484530668263\n",
      "110856999 histogram is flat 15653.0 17378.90625 f= 1.0644944589178593\n",
      "126332999 histogram is flat 13604.0 15113.28125 f= 1.0317434074991028\n",
      "142336999 histogram is flat 14074.0 15628.90625 f= 1.0157477085866857\n",
      "156105999 histogram is flat 12105.0 13446.2890625 f= 1.007843097206448\n",
      "173069999 histogram is flat 14929.0 16566.40625 f= 1.0039138893383475\n",
      "194785999 histogram is flat 19100.0 21207.03125 f= 1.0019550335910028\n",
      "213596999 histogram is flat 16534.0 18370.1171875 f= 1.0009770394924165\n",
      "249253999 histogram is flat 31341.0 34821.2890625 f= 1.0004884004786945\n",
      "319230999 histogram is flat 61693.0 68336.9140625 f= 1.0002441704297478\n",
      "370873999 histogram is flat 45402.0 50432.6171875 f= 1.0001220777633837\n",
      "442882999 histogram is flat 63366.0 70321.2890625 f= 1.0000610370189331\n",
      "548419999 histogram is flat 92782.0 103063.4765625 f= 1.000030518043791\n",
      "816841999 histogram is flat 236135.0 262130.859375 f= 1.0000152589054785\n",
      "64188999 histogram is flat 56605.0 62684.5703125 f= 1.6487212707001282\n",
      "76351999 histogram is flat 10700.0 11877.9296875 f= 1.2840254166877414\n",
      "91598999 histogram is flat 13410.0 14889.6484375 f= 1.1331484530668263\n",
      "107664999 histogram is flat 14124.0 15689.453125 f= 1.0644944589178593\n",
      "125561999 histogram is flat 15733.0 17477.5390625 f= 1.0317434074991028\n",
      "139108999 histogram is flat 11911.0 13229.4921875 f= 1.0157477085866857\n",
      "156696999 histogram is flat 15460.0 17175.78125 f= 1.007843097206448\n",
      "169975999 histogram is flat 11687.0 12967.7734375 f= 1.0039138893383475\n",
      "185743999 histogram is flat 13859.0 15398.4375 f= 1.0019550335910028\n",
      "202558999 histogram is flat 14783.0 16420.8984375 f= 1.0009770394924165\n",
      "231041999 histogram is flat 25035.0 27815.4296875 f= 1.0004884004786945\n",
      "277547999 histogram is flat 40923.0 45416.015625 f= 1.0002441704297478\n",
      "358630999 histogram is flat 71788.0 79182.6171875 f= 1.0001220777633837\n",
      "462164999 histogram is flat 91086.0 101107.421875 f= 1.0000610370189331\n",
      "590748999 histogram is flat 113074.0 125570.3125 f= 1.000030518043791\n",
      "771959999 histogram is flat 159584.0 176963.8671875 f= 1.0000152589054785\n",
      "83443999 histogram is flat 74209.0 81488.28125 f= 1.6487212707001282\n",
      "96168999 histogram is flat 11191.0 12426.7578125 f= 1.2840254166877414\n",
      "111755999 histogram is flat 13703.0 15221.6796875 f= 1.1331484530668263\n",
      "125858999 histogram is flat 12406.0 13772.4609375 f= 1.0644944589178593\n",
      "144901999 histogram is flat 16741.0 18596.6796875 f= 1.0317434074991028\n",
      "156927999 histogram is flat 10574.0 11744.140625 f= 1.0157477085866857\n",
      "171408999 histogram is flat 12733.0 14141.6015625 f= 1.007843097206448\n",
      "187424999 histogram is flat 14079.0 15640.625 f= 1.0039138893383475\n",
      "207968999 histogram is flat 18081.0 20062.5 f= 1.0019550335910028\n",
      "231265999 histogram is flat 20486.0 22750.9765625 f= 1.0009770394924165\n",
      "271350999 histogram is flat 35241.0 39145.5078125 f= 1.0004884004786945\n",
      "324318999 histogram is flat 46555.0 51726.5625 f= 1.0002441704297478\n",
      "408811999 histogram is flat 74292.0 82512.6953125 f= 1.0001220777633837\n",
      "654459999 histogram is flat 216258.0 239890.625 f= 1.0000610370189331\n",
      "823757999 histogram is flat 148824.0 165330.078125 f= 1.000030518043791\n",
      "978758999 histogram is flat 136266.0 151368.1640625 f= 1.0000152589054785\n",
      "78530999 histogram is flat 69070.0 76690.4296875 f= 1.6487212707001282\n",
      "91820999 histogram is flat 11682.0 12978.515625 f= 1.2840254166877414\n",
      "109573999 histogram is flat 15607.0 17336.9140625 f= 1.1331484530668263\n",
      "125265999 histogram is flat 13804.0 15324.21875 f= 1.0644944589178593\n",
      "143205999 histogram is flat 15784.0 17519.53125 f= 1.0317434074991028\n",
      "159197999 histogram is flat 14061.0 15617.1875 f= 1.0157477085866857\n",
      "175056999 histogram is flat 13957.0 15487.3046875 f= 1.007843097206448\n",
      "191903999 histogram is flat 14887.0 16452.1484375 f= 1.0039138893383475\n",
      "214032999 histogram is flat 19503.0 21610.3515625 f= 1.0019550335910028\n",
      "230469999 histogram is flat 14466.0 16051.7578125 f= 1.0009770394924165\n",
      "261419999 histogram is flat 27280.0 30224.609375 f= 1.0004884004786945\n",
      "303999999 histogram is flat 37531.0 41582.03125 f= 1.0002441704297478\n",
      "353229999 histogram is flat 43314.0 48076.171875 f= 1.0001220777633837\n",
      "433227999 histogram is flat 70336.0 78123.046875 f= 1.0000610370189331\n",
      "603970999 histogram is flat 150070.0 166741.2109375 f= 1.000030518043791\n",
      "918591999 histogram is flat 276541.0 307247.0703125 f= 1.0000152589054785\n",
      "74667999 histogram is flat 65629.0 72917.96875 f= 1.6487212707001282\n",
      "92380999 histogram is flat 15569.0 17297.8515625 f= 1.2840254166877414\n",
      "106604999 histogram is flat 12513.0 13890.625 f= 1.1331484530668263\n",
      "120545999 histogram is flat 12254.0 13614.2578125 f= 1.0644944589178593\n",
      "136761999 histogram is flat 14263.0 15835.9375 f= 1.0317434074991028\n",
      "151012999 histogram is flat 12534.0 13916.9921875 f= 1.0157477085866857\n",
      "170662999 histogram is flat 17277.0 19189.453125 f= 1.007843097206448\n",
      "188273999 histogram is flat 15483.0 17198.2421875 f= 1.0039138893383475\n",
      "204595999 histogram is flat 14367.0 15939.453125 f= 1.0019550335910028\n",
      "228399999 histogram is flat 20929.0 23246.09375 f= 1.0009770394924165\n",
      "273612999 histogram is flat 39761.0 44153.3203125 f= 1.0004884004786945\n",
      "334024999 histogram is flat 53113.0 58996.09375 f= 1.0002441704297478\n",
      "430803999 histogram is flat 85137.0 94510.7421875 f= 1.0001220777633837\n",
      "576684999 histogram is flat 128336.0 142461.9140625 f= 1.0000610370189331\n",
      "664580999 histogram is flat 77254.0 85835.9375 f= 1.000030518043791\n",
      "Done\n"
     ]
    }
   ],
   "source": [
    "flatness = 0.9\n",
    "N = 32\n",
    "Nitt = int(1e9)\n",
    "\n",
    "lngs = []\n",
    "hists = []\n",
    "for _ in range(5):\n",
    "    lngE, Hist = WangLandau(Nitt, N, flatness)\n",
    "    lngs.append(lngE)\n",
    "    hists.append(Hist)\n",
    "print('Done')"
   ]
  },
  {
   "cell_type": "code",
   "execution_count": 17,
   "metadata": {},
   "outputs": [],
   "source": [
    "def normalize_log_density(lngE):\n",
    "    \n",
    "    if lngE[-1]>lngE[0]:\n",
    "        lgC = np.log(4)-lngE[-1]-np.log(1+np.exp(lngE[0]-lngE[-1]))\n",
    "    else:\n",
    "        lgC = np.log(4)-lngE[0]-np.log(1+np.exp(lngE[-1]-lngE[0]))\n",
    "    lngE += lgC\n",
    "    \n",
    "    return lngE"
   ]
  },
  {
   "cell_type": "code",
   "execution_count": 69,
   "metadata": {},
   "outputs": [
    {
     "data": {
      "text/plain": [
       "array([ 0.69314718,  7.62461899,  8.31776617, 13.87169427, 15.25508025,\n",
       "       19.73338747, 21.50798444, 25.33743181, 27.36787528, 30.75550183])"
      ]
     },
     "execution_count": 69,
     "metadata": {},
     "output_type": "execute_result"
    }
   ],
   "source": [
    "# analytically calculated solutions for comparison\n",
    "g_exact = [2, 2048, 4096, 1057792, 4218880, 371621888, 2191790080, 100903637504, 768629792768, 22748079183872]\n",
    "lng_exact = np.log(g_exact)\n",
    "lng_exact"
   ]
  },
  {
   "cell_type": "code",
   "execution_count": 19,
   "metadata": {},
   "outputs": [
    {
     "data": {
      "text/plain": [
       "array([88476.76101685, 88483.58596802, 88484.22171021, ...,\n",
       "       88483.47161865, 88482.84265137, 88475.99209595])"
      ]
     },
     "execution_count": 19,
     "metadata": {},
     "output_type": "execute_result"
    }
   ],
   "source": [
    "lngE"
   ]
  },
  {
   "cell_type": "code",
   "execution_count": 73,
   "metadata": {},
   "outputs": [],
   "source": [
    "lngE_runs = np.array([normalize_log_density(lng) for lng in lngs])\n",
    "num_runs = np.shape(lngE_runs)[0]\n",
    "\n",
    "\n",
    "mean = np.sum(lngE_runs, axis=0) / num_runs\n",
    "mean_square = np.sum(lngE_runs**2, axis=0) / num_runs\n",
    "\n",
    "stdev = np.sqrt((mean_square - mean**2) / (num_runs-1))"
   ]
  },
  {
   "cell_type": "code",
   "execution_count": 74,
   "metadata": {},
   "outputs": [
    {
     "data": {
      "text/plain": [
       "array([0.10660531, 0.1131321 , 0.11363354, 0.13046757, 0.15730781,\n",
       "       0.13047044, 0.12656249, 0.11622807, 0.11175356, 0.11558976])"
      ]
     },
     "execution_count": 74,
     "metadata": {},
     "output_type": "execute_result"
    }
   ],
   "source": [
    "stdev[:10]"
   ]
  },
  {
   "cell_type": "code",
   "execution_count": 75,
   "metadata": {},
   "outputs": [
    {
     "data": {
      "text/plain": [
       "array([ 0.82830774,  7.80623438,  8.48649561, 14.09763758, 15.47465479,\n",
       "       19.96988184, 21.7120022 , 25.56603357, 27.55775416, 30.98023645])"
      ]
     },
     "execution_count": 75,
     "metadata": {},
     "output_type": "execute_result"
    }
   ],
   "source": [
    "mean[:10]"
   ]
  },
  {
   "cell_type": "markdown",
   "metadata": {},
   "source": [
    "The exact solution and our simulations are visually close, but we need to check that this is statistically meaningful. Under the data, I plot the residuals normalized by the exact solutions. They are fairly close. "
   ]
  },
  {
   "cell_type": "code",
   "execution_count": 76,
   "metadata": {},
   "outputs": [
    {
     "data": {
      "text/plain": [
       "Text(0.5, 1.0, 'Exact Solution vs. Simulation')"
      ]
     },
     "execution_count": 76,
     "metadata": {},
     "output_type": "execute_result"
    },
    {
     "data": {
      "image/png": "[encoded data removed]",
      "text/plain": [
       "<Figure size 640x480 with 2 Axes>"
      ]
     },
     "metadata": {},
     "output_type": "display_data"
    }
   ],
   "source": [
    "fig, ax = plt.subplots(2, 1)\n",
    "\n",
    "x_axis = np.arange(1, 11)\n",
    "\n",
    "ax[0].errorbar(x=x_axis, y=mean[:10], yerr=stdev[:10], fmt='.', label='simulated')\n",
    "ax[0].scatter(x_axis, lng_exact, s=12, c='g', label='exact')\n",
    "\n",
    "ax[1].scatter(x_axis, (mean[:10]-lng_exact)/lng_exact)\n",
    "ax[1].set_ylim([0, 1])\n",
    "ax[1].set_ylabel(r'(sim. $-$ exact)/sim')\n",
    "\n",
    "ax[0].legend()\n",
    "\n",
    "ax[0].set_title('Exact Solution vs. Simulation')"
   ]
  },
  {
   "cell_type": "markdown",
   "metadata": {},
   "source": [
    "Ideally, the residuals will be less than the standard deviation. This does not appear to be the case. "
   ]
  },
  {
   "cell_type": "code",
   "execution_count": 77,
   "metadata": {},
   "outputs": [
    {
     "data": {
      "text/plain": [
       "<matplotlib.legend.Legend at 0x164f8da90>"
      ]
     },
     "execution_count": 77,
     "metadata": {},
     "output_type": "execute_result"
    },
    {
     "data": {
      "image/png": "[encoded data removed]",
      "text/plain": [
       "<Figure size 640x480 with 1 Axes>"
      ]
     },
     "metadata": {},
     "output_type": "display_data"
    }
   ],
   "source": [
    "fig, ax = plt.subplots()\n",
    "\n",
    "ax.scatter(x_axis, (mean[:10]-lng_exact), label='residual')\n",
    "ax.scatter(x_axis, stdev[:10], label=r'$\\sigma_E$')\n",
    "\n",
    "ax.legend()"
   ]
  },
  {
   "cell_type": "markdown",
   "metadata": {},
   "source": [
    "We can also quickly calculate a $\\chi^2$ value. "
   ]
  },
  {
   "cell_type": "code",
   "execution_count": 79,
   "metadata": {},
   "outputs": [
    {
     "name": "stdout",
     "output_type": "stream",
     "text": [
      "chi sq: 0.0507366615064642\n",
      "chi sq norm by uncertainty: 27.756397755866946\n"
     ]
    }
   ],
   "source": [
    "print(f'chi sq: {np.sum((mean[:10]-lng_exact)**2 / lng_exact)}')\n",
    "print(f'chi sq norm by uncertainty: {np.sum((mean[:10]-lng_exact)**2 / stdev[:10]**2)}')"
   ]
  }
 ],
 "metadata": {
  "kernelspec": {
   "display_name": "rcphy",
   "language": "python",
   "name": "python3"
  },
  "language_info": {
   "codemirror_mode": {
    "name": "ipython",
    "version": 3
   },
   "file_extension": ".py",
   "mimetype": "text/x-python",
   "name": "python",
   "nbconvert_exporter": "python",
   "pygments_lexer": "ipython3",
   "version": "3.12.7"
  }
 },
 "nbformat": 4,
 "nbformat_minor": 2
}

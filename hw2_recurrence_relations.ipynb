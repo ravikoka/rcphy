{
 "cells": [
  {
   "cell_type": "code",
   "execution_count": 1,
   "metadata": {},
   "outputs": [],
   "source": [
    "import numpy as np\n",
    "import matplotlib.pyplot as plt\n",
    "import scipy.integrate as integrate\n",
    "from numba import njit"
   ]
  },
  {
   "cell_type": "markdown",
   "metadata": {},
   "source": [
    "try with generators https://realpython.com/introduction-to-python-generators/"
   ]
  },
  {
   "cell_type": "markdown",
   "metadata": {},
   "source": [
    "normalizing only works for linear homog recurrence relation.\n",
    "\n",
    "get recurrence relation.\n",
    "\n",
    "numerical integration gets computationally expensive bc a lot of n, alpha, x combinations\n",
    "\n",
    "so use recurrence. know K0 analytically from integral bc simple to evaluate. \n",
    "\n",
    "recurrence relation is linear but not homogeneous. could maybe guess particular solution so that we can use bessel function method.\n",
    "\n",
    "$\\alpha / z$ sets critical value for when to use upwards vs downwards recurrence. set this critical value at 1/2. could reduce this number.\n",
    "\n",
    "for downward recurrence, use power series to get Kn,max. this is expensive, but it allows us to get many others in the recurrence relation for cheap. cost is upfront. coefficients in power series are small. could use numpy integrator but with this way we can control accuracy by adding more terms. \n",
    "\n",
    "there is an analytic solution in terms of a power series. we can use this to check.\n",
    "\n",
    "can also use scipy integrate to check work.\n",
    "\n",
    "for homework, calculate n=0 to 10. and for several alpha/z\n",
    "\n",
    "plot Ks together.\n",
    "\n",
    "fxn of z alpha n\n",
    "set epsilon for accuracy. if alpha / z ^ k < epsilon, terminate sum. \n",
    "set 1/2 for critical down/up.\n",
    "if less down\n",
    "    - taylor expand for KN (large N), then go down. keep going until abs value is small. xn=1 ; for m in large number (x_n / z)/(n+m+1). just a taylor series\n",
    "    - then can just do downward recursion\n",
    "\n",
    "if greater up: simple. return Kn\n",
    "\n",
    "plot for all n from 1 to 10\n",
    "compare different alpha/z values plotting might be weird bc one might be much larger than others\n",
    "alpha/z = 0.1 0.2 0.3 0.5\n",
    "\n"
   ]
  },
  {
   "cell_type": "markdown",
   "metadata": {},
   "source": [
    "set 1 as threshold\n",
    "\n",
    "set z = 1 and plot kn for diff alpha values\n",
    "0 - 10\n",
    "check if 0.49 and 0.5 are similar with critical alpha/z = 0.5. if close shows it works wells"
   ]
  },
  {
   "cell_type": "code",
   "execution_count": 71,
   "metadata": {},
   "outputs": [],
   "source": [
    "class KnSolver:\n",
    "    def __init__(self, alpha, z, n_max, epsilon):\n",
    "        self._alpha = alpha\n",
    "        self._z = np.array(z)\n",
    "        self._epsilon = epsilon\n",
    "        self._n_max = n_max\n",
    "        self._critical_ratio = 0.5\n",
    "        \n",
    "    def calculate_K_zero(self):\n",
    "        return (1 / self._alpha) * np.log(1 + self._alpha / self._z)\n",
    "    \n",
    "    def _calculate_K_zero_at_z(self, z):\n",
    "        return (1 / self._alpha) * np.log(1 + self._alpha / z)\n",
    "    \n",
    "    #@staticmethod\n",
    "    #@njit\n",
    "    def analytic_solution_Kn_at_z(self, n, z):\n",
    "        \n",
    "        k = 1\n",
    "        coefficient = 1\n",
    "        sum = 0\n",
    "        max_iter = 100000\n",
    "        while np.abs(coefficient) > self._epsilon:\n",
    "            coefficient = (-self._alpha / z)**k \n",
    "            sum += coefficient / k\n",
    "            k += 1\n",
    "            \n",
    "            if k > max_iter:\n",
    "                print(f'Warning: exceeding {max_iter} iterations.')\n",
    "                break\n",
    "        print(f'Number of iterations: {k}')\n",
    "        print(sum)\n",
    "        print(coefficient)\n",
    "\n",
    "        return (-z/self._alpha)**n * (self._calculate_K_zero_at_z(z) + sum / self._alpha)\n",
    "    \n",
    "    \n",
    "    def upwards_recurrence(self):\n",
    "        Kn = self.calculate_K_zero()\n",
    "        \n",
    "        Kn_history = np.zeros((self._n_max, len(self._z)))\n",
    "        \n",
    "        for n in range(self._n_max):\n",
    "            Kn_history[n, :] = Kn\n",
    "            Kn = 1/(self._alpha * (n + 1)) - (self._z / self._alpha) * Kn\n",
    "        \n",
    "        return Kn_history\n",
    "    \n",
    "    def upwards_recurrence_at_z(self, K0, z):\n",
    "        #Kn = self.calculate_K_zero()\n",
    "        Kn = K0\n",
    "        Kn_history = np.zeros(self._n_max + 1)\n",
    "        \n",
    "        for n in range(self._n_max):\n",
    "            Kn_history[n] = Kn\n",
    "            Kn = 1/(self._alpha * (n + 1)) - (z / self._alpha) * Kn\n",
    "        \n",
    "        return Kn_history\n",
    "    \n",
    "    def downwards_recurrence(self):\n",
    "        Kn_max = np.array([self.analytic_solution_Kn_at_z(self._n_max, z) for z in self._z])\n",
    "        Kn_history = np.zeros((self._n_max + 1, len(self._z)))\n",
    "        Kn_history[-1, :] = Kn_max\n",
    "        print(Kn_history)\n",
    "        \n",
    "        Kn = Kn_max\n",
    "        for n in range(self._n_max - 1, -1, -1):\n",
    "            print(f'fK{n} is {Kn}')\n",
    "            Kn = (-self._alpha / self._z) * (Kn - 1/(self._alpha * (n + 1)))\n",
    "            Kn_history[self._n_max - n, :] = Kn\n",
    "\n",
    "        return Kn_history\n",
    "    \n",
    "    def downwards_recurrence_at_z(self, z):\n",
    "        #Kn_max = np.array([self.analytic_solution_Kn_at_z(self._n_max, z) for z in self._z])\n",
    "        Kn_max = self.analytic_solution_Kn_at_z(self._n_max, z)\n",
    "        Kn_history = np.zeros(self._n_max + 1)\n",
    "        Kn_history[-1] = Kn_max\n",
    "        print(Kn_history)\n",
    "        \n",
    "        Kn = Kn_max\n",
    "        for n in range(self._n_max - 1, -1, -1):\n",
    "            print(f'fK{n} is {Kn}')\n",
    "            Kn = (-self._alpha / z) * (Kn - 1/(self._alpha * (n + 1)))\n",
    "            Kn_history[self._n_max - n] = Kn\n",
    "\n",
    "        return Kn_history\n",
    "    \n",
    "    \n",
    "    def solve_Kn_integral(self):\n",
    "        def integrand(x, z, alpha, n):\n",
    "            return x**n / (z + alpha * x)\n",
    "        \n",
    "        Kn_history = np.zeros((self._n_max, len(self._z)))\n",
    "    \n",
    "        for n in range(self._n_max):\n",
    "            for i, z in enumerate(self._z):    \n",
    "                Kn_history[n, i] = integrate.quad(integrand, 0, 1, args=(z, self._alpha, n))[0]\n",
    "        \n",
    "        return Kn_history\n",
    "    \n",
    "    \n",
    "    def taylor_approximate_Kn(self, n, z):\n",
    "        \n",
    "        coefficient = 1\n",
    "        k = 0\n",
    "        sum = 0\n",
    "        max_iter = 100000\n",
    "        while np.abs(coefficient) > self._epsilon:\n",
    "            coefficient = (-self._alpha / z)**k \n",
    "            sum += coefficient / (n + k + 1)\n",
    "            k += 1 \n",
    "            \n",
    "            if k > max_iter:\n",
    "                print(f'Warning: exceeding {max_iter} iterations.')\n",
    "                break\n",
    "        print(f'Number of iterations: {k}')\n",
    "        return sum / z\n",
    "    \n",
    "    def solve_analytically(self):\n",
    "        #Kn_history = np.zeros((self._n_max, len(self._z)))\n",
    "        Kn_history = np.array([[self.analytic_solution_Kn_at_z(n, z) for z in self._z] for n in range(self._n_max)])\n",
    "        \n",
    "        return Kn_history\n",
    "    \n",
    "    def solve_analytically_at_z(self, z):\n",
    "        #Kn_history = np.zeros((self._n_max, len(self._z)))\n",
    "        Kn = [self.analytic_solution_Kn_at_z(n, z) for n in range(0, self._n_max)]\n",
    "        # Kn_history = np.array([[self.analytic_solution_Kn_at_z(n, z) for z in self._z] for n in range(self._n_max)])\n",
    "        \n",
    "        return Kn\n",
    "        \n",
    "    \n",
    "    def calculate_Kn_at_z(self, z):\n",
    "        \n",
    "        # if alpha /z down\n",
    "        # if alopha / up\n",
    "        \n",
    "        K0 = self._calculate_K_zero_at_z(z)\n",
    "        if np.abs(self._alpha / self._z) < self._critical_ratio:\n",
    "            return self.downwards_recurrence_at_z(z)\n",
    "                \n",
    "        else:\n",
    "            return self.upwards_recurrence_at_z(K0, z)\n",
    "        \n",
    "    "
   ]
  },
  {
   "cell_type": "code",
   "execution_count": 14,
   "metadata": {},
   "outputs": [
    {
     "name": "stdout",
     "output_type": "stream",
     "text": [
      "Number of iterations: 7\n",
      "-0.009950330853166666\n",
      "1.0000000000000002e-12\n",
      "[0.00000000e+00 0.00000000e+00 0.00000000e+00 0.00000000e+00\n",
      " 0.00000000e+00 0.00000000e+00 0.00000000e+00 0.00000000e+00\n",
      " 0.00000000e+00 0.00000000e+00 1.42641454e+08]\n",
      "fK9 is 142641454.2038401\n",
      "fK8 is -1426413.5420384011\n",
      "fK7 is 14265.246531495122\n",
      "fK6 is -141.40246531495123\n",
      "fK5 is 2.842596081720941\n",
      "fK4 is 1.6382407058494572\n",
      "fK3 is 1.9836175929415054\n",
      "fK2 is 2.480163824070585\n",
      "fK1 is 3.3085316950926273\n",
      "fK0 is 4.966914683049073\n",
      "Number of iterations: 7\n",
      "-0.009950330853166666\n",
      "1.0000000000000002e-12\n",
      "Number of iterations: 7\n",
      "-0.009950330853166666\n",
      "1.0000000000000002e-12\n",
      "Number of iterations: 7\n",
      "-0.009950330853166666\n",
      "1.0000000000000002e-12\n",
      "Number of iterations: 7\n",
      "-0.009950330853166666\n",
      "1.0000000000000002e-12\n",
      "Number of iterations: 7\n",
      "-0.009950330853166666\n",
      "1.0000000000000002e-12\n",
      "Number of iterations: 7\n",
      "-0.009950330853166666\n",
      "1.0000000000000002e-12\n",
      "Number of iterations: 7\n",
      "-0.009950330853166666\n",
      "1.0000000000000002e-12\n",
      "Number of iterations: 7\n",
      "-0.009950330853166666\n",
      "1.0000000000000002e-12\n",
      "Number of iterations: 7\n",
      "-0.009950330853166666\n",
      "1.0000000000000002e-12\n",
      "Number of iterations: 7\n",
      "-0.009950330853166666\n",
      "1.0000000000000002e-12\n",
      "Warning: exceeding 100000 iterations.\n",
      "Number of iterations: 100001\n",
      "-0.6931421805849816\n",
      "1.0\n",
      "Warning: exceeding 100000 iterations.\n",
      "Number of iterations: 100001\n",
      "-0.6931421805849816\n",
      "1.0\n",
      "Warning: exceeding 100000 iterations.\n",
      "Number of iterations: 100001\n",
      "-0.6931421805849816\n",
      "1.0\n",
      "Warning: exceeding 100000 iterations.\n",
      "Number of iterations: 100001\n",
      "-0.6931421805849816\n",
      "1.0\n",
      "Warning: exceeding 100000 iterations.\n",
      "Number of iterations: 100001\n",
      "-0.6931421805849816\n",
      "1.0\n",
      "Warning: exceeding 100000 iterations.\n",
      "Number of iterations: 100001\n",
      "-0.6931421805849816\n",
      "1.0\n",
      "Warning: exceeding 100000 iterations.\n",
      "Number of iterations: 100001\n",
      "-0.6931421805849816\n",
      "1.0\n",
      "Warning: exceeding 100000 iterations.\n",
      "Number of iterations: 100001\n",
      "-0.6931421805849816\n",
      "1.0\n",
      "Warning: exceeding 100000 iterations.\n",
      "Number of iterations: 100001\n",
      "-0.6931421805849816\n",
      "1.0\n",
      "Warning: exceeding 100000 iterations.\n",
      "Number of iterations: 100001\n",
      "-0.6931421805849816\n",
      "1.0\n",
      "Warning: exceeding 100000 iterations.\n",
      "Number of iterations: 100001\n",
      "nan\n",
      "inf\n"
     ]
    },
    {
     "name": "stderr",
     "output_type": "stream",
     "text": [
      "/var/folders/gl/qkjlxgd944l2rvbjy6m3dk900000gr/T/ipykernel_99547/24660292.py:24: RuntimeWarning: overflow encountered in scalar power\n",
      "  coefficient = (-self._alpha / z)**k\n",
      "/var/folders/gl/qkjlxgd944l2rvbjy6m3dk900000gr/T/ipykernel_99547/24660292.py:25: RuntimeWarning: invalid value encountered in scalar add\n",
      "  sum += coefficient / k\n"
     ]
    },
    {
     "name": "stdout",
     "output_type": "stream",
     "text": [
      "Warning: exceeding 100000 iterations.\n",
      "Number of iterations: 100001\n",
      "nan\n",
      "inf\n",
      "Warning: exceeding 100000 iterations.\n",
      "Number of iterations: 100001\n",
      "nan\n",
      "inf\n",
      "Warning: exceeding 100000 iterations.\n",
      "Number of iterations: 100001\n",
      "nan\n",
      "inf\n",
      "Warning: exceeding 100000 iterations.\n",
      "Number of iterations: 100001\n",
      "nan\n",
      "inf\n",
      "Warning: exceeding 100000 iterations.\n",
      "Number of iterations: 100001\n",
      "nan\n",
      "inf\n",
      "Warning: exceeding 100000 iterations.\n",
      "Number of iterations: 100001\n",
      "nan\n",
      "inf\n",
      "Warning: exceeding 100000 iterations.\n",
      "Number of iterations: 100001\n",
      "nan\n",
      "inf\n",
      "Warning: exceeding 100000 iterations.\n",
      "Number of iterations: 100001\n",
      "nan\n",
      "inf\n",
      "Warning: exceeding 100000 iterations.\n",
      "Number of iterations: 100001\n",
      "nan\n",
      "inf\n",
      "Warning: exceeding 100000 iterations.\n",
      "Number of iterations: 100001\n",
      "nan\n",
      "inf\n",
      "Warning: exceeding 100000 iterations.\n",
      "Number of iterations: 100001\n",
      "nan\n",
      "inf\n",
      "Warning: exceeding 100000 iterations.\n",
      "Number of iterations: 100001\n",
      "nan\n",
      "inf\n",
      "Warning: exceeding 100000 iterations.\n",
      "Number of iterations: 100001\n",
      "nan\n",
      "inf\n",
      "Warning: exceeding 100000 iterations.\n",
      "Number of iterations: 100001\n",
      "nan\n",
      "inf\n",
      "Warning: exceeding 100000 iterations.\n",
      "Number of iterations: 100001\n",
      "nan\n",
      "inf\n",
      "Warning: exceeding 100000 iterations.\n",
      "Number of iterations: 100001\n",
      "nan\n",
      "inf\n",
      "Warning: exceeding 100000 iterations.\n",
      "Number of iterations: 100001\n",
      "nan\n",
      "inf\n",
      "Warning: exceeding 100000 iterations.\n",
      "Number of iterations: 100001\n",
      "nan\n",
      "inf\n",
      "Warning: exceeding 100000 iterations.\n",
      "Number of iterations: 100001\n",
      "nan\n",
      "inf\n",
      "Warning: exceeding 100000 iterations.\n",
      "Number of iterations: 100001\n",
      "nan\n",
      "inf\n",
      "Warning: exceeding 100000 iterations.\n",
      "Number of iterations: 100001\n",
      "nan\n",
      "inf\n",
      "Warning: exceeding 100000 iterations.\n",
      "Number of iterations: 100001\n",
      "nan\n",
      "inf\n",
      "Warning: exceeding 100000 iterations.\n",
      "Number of iterations: 100001\n",
      "nan\n",
      "inf\n",
      "Warning: exceeding 100000 iterations.\n",
      "Number of iterations: 100001\n",
      "nan\n",
      "inf\n",
      "Warning: exceeding 100000 iterations.\n",
      "Number of iterations: 100001\n",
      "nan\n",
      "inf\n",
      "Warning: exceeding 100000 iterations.\n",
      "Number of iterations: 100001\n",
      "nan\n",
      "inf\n",
      "Warning: exceeding 100000 iterations.\n",
      "Number of iterations: 100001\n",
      "nan\n",
      "inf\n",
      "Warning: exceeding 100000 iterations.\n",
      "Number of iterations: 100001\n",
      "nan\n",
      "inf\n",
      "Warning: exceeding 100000 iterations.\n",
      "Number of iterations: 100001\n",
      "nan\n",
      "inf\n",
      "Warning: exceeding 100000 iterations.\n",
      "Number of iterations: 100001\n",
      "nan\n",
      "inf\n",
      "Warning: exceeding 100000 iterations.\n",
      "Number of iterations: 100001\n",
      "nan\n",
      "inf\n",
      "Warning: exceeding 100000 iterations.\n",
      "Number of iterations: 100001\n",
      "nan\n",
      "inf\n",
      "Warning: exceeding 100000 iterations.\n",
      "Number of iterations: 100001\n",
      "nan\n",
      "inf\n",
      "Warning: exceeding 100000 iterations.\n",
      "Number of iterations: 100001\n",
      "nan\n",
      "inf\n",
      "Warning: exceeding 100000 iterations.\n",
      "Number of iterations: 100001\n",
      "nan\n",
      "inf\n",
      "Warning: exceeding 100000 iterations.\n",
      "Number of iterations: 100001\n",
      "nan\n",
      "inf\n",
      "Warning: exceeding 100000 iterations.\n",
      "Number of iterations: 100001\n",
      "nan\n",
      "inf\n",
      "Warning: exceeding 100000 iterations.\n",
      "Number of iterations: 100001\n",
      "nan\n",
      "inf\n",
      "Warning: exceeding 100000 iterations.\n",
      "Number of iterations: 100001\n",
      "nan\n",
      "inf\n"
     ]
    }
   ],
   "source": [
    "alphas = [0.001, 0.1, 0.49, 0.5, 1, 10]\n",
    "\n",
    "for alpha in alphas:\n",
    "    solver = KnSolver(alpha=alpha, z=[0.1], n_max=10, epsilon=1e-10)\n",
    "    \n",
    "    print(f'Alpha is {alpha}')\n",
    "    print(f'Alpha is {alpha}')\n",
    "    Kn = solver.calculate_Kn_at_z(0.1)\n",
    "    Kn_integral = solver.solve_Kn_integral()\n",
    "    Kn_analytic = solver.solve_analytically()"
   ]
  },
  {
   "cell_type": "code",
   "execution_count": 44,
   "metadata": {},
   "outputs": [
    {
     "ename": "OverflowError",
     "evalue": "(34, 'Result too large')",
     "output_type": "error",
     "traceback": [
      "\u001b[0;31m---------------------------------------------------------------------------\u001b[0m",
      "\u001b[0;31mOverflowError\u001b[0m                             Traceback (most recent call last)",
      "Cell \u001b[0;32mIn[44], line 3\u001b[0m\n\u001b[1;32m      1\u001b[0m solver \u001b[38;5;241m=\u001b[39m KnSolver(alpha\u001b[38;5;241m=\u001b[39m\u001b[38;5;241m1\u001b[39m, z\u001b[38;5;241m=\u001b[39m[\u001b[38;5;241m0.1\u001b[39m], n_max\u001b[38;5;241m=\u001b[39m\u001b[38;5;241m10\u001b[39m, epsilon\u001b[38;5;241m=\u001b[39m\u001b[38;5;241m1e-10\u001b[39m)\n\u001b[0;32m----> 3\u001b[0m \u001b[43msolver\u001b[49m\u001b[38;5;241;43m.\u001b[39;49m\u001b[43msolve_analytically_at_z\u001b[49m\u001b[43m(\u001b[49m\u001b[38;5;241;43m0.1\u001b[39;49m\u001b[43m)\u001b[49m\n",
      "Cell \u001b[0;32mIn[39], line 128\u001b[0m, in \u001b[0;36mKnSolver.solve_analytically_at_z\u001b[0;34m(self, z)\u001b[0m\n\u001b[1;32m    126\u001b[0m \u001b[38;5;28;01mdef\u001b[39;00m \u001b[38;5;21msolve_analytically_at_z\u001b[39m(\u001b[38;5;28mself\u001b[39m, z):\n\u001b[1;32m    127\u001b[0m     \u001b[38;5;66;03m#Kn_history = np.zeros((self._n_max, len(self._z)))\u001b[39;00m\n\u001b[0;32m--> 128\u001b[0m     Kn \u001b[38;5;241m=\u001b[39m [\u001b[38;5;28;43mself\u001b[39;49m\u001b[38;5;241;43m.\u001b[39;49m\u001b[43manalytic_solution_Kn_at_z\u001b[49m\u001b[43m(\u001b[49m\u001b[43mn\u001b[49m\u001b[43m,\u001b[49m\u001b[43m \u001b[49m\u001b[43mz\u001b[49m\u001b[43m)\u001b[49m \u001b[38;5;28;01mfor\u001b[39;00m n \u001b[38;5;129;01min\u001b[39;00m \u001b[38;5;28mrange\u001b[39m(\u001b[38;5;241m0\u001b[39m, \u001b[38;5;28mself\u001b[39m\u001b[38;5;241m.\u001b[39m_n_max)]\n\u001b[1;32m    129\u001b[0m     \u001b[38;5;66;03m# Kn_history = np.array([[self.analytic_solution_Kn_at_z(n, z) for z in self._z] for n in range(self._n_max)])\u001b[39;00m\n\u001b[1;32m    131\u001b[0m     \u001b[38;5;28;01mreturn\u001b[39;00m Kn\n",
      "Cell \u001b[0;32mIn[39], line 24\u001b[0m, in \u001b[0;36mKnSolver.analytic_solution_Kn_at_z\u001b[0;34m(self, n, z)\u001b[0m\n\u001b[1;32m     22\u001b[0m max_iter \u001b[38;5;241m=\u001b[39m \u001b[38;5;241m100000\u001b[39m\n\u001b[1;32m     23\u001b[0m \u001b[38;5;28;01mwhile\u001b[39;00m np\u001b[38;5;241m.\u001b[39mabs(coefficient) \u001b[38;5;241m>\u001b[39m \u001b[38;5;28mself\u001b[39m\u001b[38;5;241m.\u001b[39m_epsilon:\n\u001b[0;32m---> 24\u001b[0m     coefficient \u001b[38;5;241m=\u001b[39m \u001b[43m(\u001b[49m\u001b[38;5;241;43m-\u001b[39;49m\u001b[38;5;28;43mself\u001b[39;49m\u001b[38;5;241;43m.\u001b[39;49m\u001b[43m_alpha\u001b[49m\u001b[43m \u001b[49m\u001b[38;5;241;43m/\u001b[39;49m\u001b[43m \u001b[49m\u001b[43mz\u001b[49m\u001b[43m)\u001b[49m\u001b[38;5;241;43m*\u001b[39;49m\u001b[38;5;241;43m*\u001b[39;49m\u001b[43mk\u001b[49m \n\u001b[1;32m     25\u001b[0m     \u001b[38;5;28msum\u001b[39m \u001b[38;5;241m+\u001b[39m\u001b[38;5;241m=\u001b[39m coefficient \u001b[38;5;241m/\u001b[39m k\n\u001b[1;32m     26\u001b[0m     k \u001b[38;5;241m+\u001b[39m\u001b[38;5;241m=\u001b[39m \u001b[38;5;241m1\u001b[39m\n",
      "\u001b[0;31mOverflowError\u001b[0m: (34, 'Result too large')"
     ]
    }
   ],
   "source": [
    "solver = KnSolver(alpha=1, z=[0.1], n_max=10, epsilon=1e-10)\n",
    "\n",
    "solver.solve_analytically_at_z(0.1)"
   ]
  },
  {
   "cell_type": "code",
   "execution_count": 45,
   "metadata": {},
   "outputs": [
    {
     "data": {
      "text/plain": [
       "<matplotlib.legend.Legend at 0x16a3fea50>"
      ]
     },
     "execution_count": 45,
     "metadata": {},
     "output_type": "execute_result"
    },
    {
     "data": {
      "image/png": "[encoded data removed]",
      "text/plain": [
       "<Figure size 640x480 with 1 Axes>"
      ]
     },
     "metadata": {},
     "output_type": "display_data"
    }
   ],
   "source": [
    "alphas = [1] # 0.001, 0.5,\n",
    "\n",
    "for alpha in alphas:\n",
    "    solver = KnSolver(alpha=alpha, z=[0.1], n_max=10, epsilon=1e-10)\n",
    "    \n",
    "    Kn = solver.calculate_Kn_at_z(0.1)\n",
    "    Kn_integral = solver.solve_Kn_integral()\n",
    "    \n",
    "fig, ax = plt.subplots()\n",
    "x_axis = [i for i in range(10)]\n",
    "ax.scatter(x_axis, Kn, label='recurrence')\n",
    "ax.scatter(x_axis, Kn_integral, label='integral')\n",
    "    \n",
    "ax.legend()"
   ]
  },
  {
   "cell_type": "code",
   "execution_count": 64,
   "metadata": {},
   "outputs": [
    {
     "data": {
      "text/plain": [
       "<matplotlib.legend.Legend at 0x1720fa720>"
      ]
     },
     "execution_count": 64,
     "metadata": {},
     "output_type": "execute_result"
    },
    {
     "data": {
      "image/png": "[encoded data removed]",
      "text/plain": [
       "<Figure size 640x480 with 1 Axes>"
      ]
     },
     "metadata": {},
     "output_type": "display_data"
    }
   ],
   "source": [
    "fig, ax = plt.subplots()\n",
    "x_axis = [i for i in range(10)]\n",
    "\n",
    "alphas = [0.001, 0.49, 0.51, 10]\n",
    "for alpha in alphas:\n",
    "    solver = KnSolver(alpha=alpha, z=[0.1], n_max=10, epsilon=1e-10)\n",
    "    \n",
    "    Kn_integral = solver.solve_Kn_integral()\n",
    "    \n",
    "    ax.scatter(x_axis, Kn_integral, label=f'{alpha}')\n",
    "    \n",
    "ax.legend()"
   ]
  },
  {
   "cell_type": "code",
   "execution_count": 72,
   "metadata": {},
   "outputs": [
    {
     "name": "stdout",
     "output_type": "stream",
     "text": [
      "Number of iterations: 7\n",
      "-0.009950330853166666\n",
      "1.0000000000000002e-12\n",
      "[0.00000000e+00 0.00000000e+00 0.00000000e+00 0.00000000e+00\n",
      " 0.00000000e+00 0.00000000e+00 0.00000000e+00 0.00000000e+00\n",
      " 0.00000000e+00 0.00000000e+00 1.42641454e+08]\n",
      "fK9 is 142641454.2038401\n",
      "fK8 is -1426413.5420384011\n",
      "fK7 is 14265.246531495122\n",
      "fK6 is -141.40246531495123\n",
      "fK5 is 2.842596081720941\n",
      "fK4 is 1.6382407058494572\n",
      "fK3 is 1.9836175929415054\n",
      "fK2 is 2.480163824070585\n",
      "fK1 is 3.3085316950926273\n",
      "fK0 is 4.966914683049073\n",
      "KN SHAPE: (11,)\n",
      "KN SHAPE: (11,)\n",
      "KN SHAPE: (11,)\n",
      "KN SHAPE: (11,)\n"
     ]
    },
    {
     "data": {
      "text/plain": [
       "<matplotlib.legend.Legend at 0x171dcd490>"
      ]
     },
     "execution_count": 72,
     "metadata": {},
     "output_type": "execute_result"
    },
    {
     "data": {
      "image/png": "[encoded data removed]",
      "text/plain": [
       "<Figure size 640x480 with 1 Axes>"
      ]
     },
     "metadata": {},
     "output_type": "display_data"
    }
   ],
   "source": [
    "fig, ax = plt.subplots()\n",
    "x_axis = [i for i in range(11)]\n",
    "\n",
    "alphas = [0.001, 0.49, 0.51, 10]\n",
    "for alpha in alphas:\n",
    "    solver = KnSolver(alpha=alpha, z=[0.1], n_max=10, epsilon=1e-10)\n",
    "    \n",
    "    Kn = solver.calculate_Kn_at_z(0.1)\n",
    "    \n",
    "    print(f'KN SHAPE: {Kn.shape}')\n",
    "    ax.scatter(x_axis, Kn, label=f'{alpha}')\n",
    "\n",
    "ax.legend()"
   ]
  },
  {
   "cell_type": "code",
   "execution_count": 26,
   "metadata": {},
   "outputs": [
    {
     "data": {
      "text/plain": [
       "array([2.39789527, 0.76021047, 0.42397895, 0.29093544, 0.22090646,\n",
       "       0.17790935, 0.14887573, 0.12796957, 0.11220304, 0.09989081])"
      ]
     },
     "execution_count": 26,
     "metadata": {},
     "output_type": "execute_result"
    }
   ],
   "source": [
    "Kn"
   ]
  },
  {
   "cell_type": "code",
   "execution_count": 27,
   "metadata": {},
   "outputs": [
    {
     "data": {
      "text/plain": [
       "array([[2.39789527],\n",
       "       [0.76021047],\n",
       "       [0.42397895],\n",
       "       [0.29093544],\n",
       "       [0.22090646],\n",
       "       [0.17790935],\n",
       "       [0.14887573],\n",
       "       [0.12796957],\n",
       "       [0.11220304],\n",
       "       [0.09989081]])"
      ]
     },
     "execution_count": 27,
     "metadata": {},
     "output_type": "execute_result"
    }
   ],
   "source": [
    "Kn_integral"
   ]
  },
  {
   "cell_type": "code",
   "execution_count": 11,
   "metadata": {},
   "outputs": [
    {
     "data": {
      "text/plain": [
       "2.3978952727983707"
      ]
     },
     "execution_count": 11,
     "metadata": {},
     "output_type": "execute_result"
    }
   ],
   "source": [
    "Kzero"
   ]
  },
  {
   "cell_type": "code",
   "execution_count": 31,
   "metadata": {},
   "outputs": [
    {
     "name": "stdout",
     "output_type": "stream",
     "text": [
      "Number of iterations: 5\n",
      "-0.0009995003330833332\n",
      "1.0000000000000002e-12\n"
     ]
    },
    {
     "ename": "ValueError",
     "evalue": "x and y must be the same size",
     "output_type": "error",
     "traceback": [
      "\u001b[0;31m---------------------------------------------------------------------------\u001b[0m",
      "\u001b[0;31mValueError\u001b[0m                                Traceback (most recent call last)",
      "Cell \u001b[0;32mIn[31], line 9\u001b[0m\n\u001b[1;32m      6\u001b[0m solver\u001b[38;5;241m.\u001b[39manalytic_solution_Kn_at_z(\u001b[38;5;241m10\u001b[39m, z\u001b[38;5;241m=\u001b[39m\u001b[38;5;241m1\u001b[39m)\n\u001b[1;32m      7\u001b[0m \u001b[38;5;66;03m#Kn = solver.solve_Kn_integral()\u001b[39;00m\n\u001b[1;32m      8\u001b[0m \u001b[38;5;66;03m#print(Kn.shape)\u001b[39;00m\n\u001b[0;32m----> 9\u001b[0m \u001b[43mplt\u001b[49m\u001b[38;5;241;43m.\u001b[39;49m\u001b[43mscatter\u001b[49m\u001b[43m(\u001b[49m\u001b[43mnp\u001b[49m\u001b[38;5;241;43m.\u001b[39;49m\u001b[43marange\u001b[49m\u001b[43m(\u001b[49m\u001b[38;5;241;43m0\u001b[39;49m\u001b[43m,\u001b[49m\u001b[43m \u001b[49m\u001b[38;5;241;43m11\u001b[39;49m\u001b[43m)\u001b[49m\u001b[43m,\u001b[49m\u001b[43m \u001b[49m\u001b[43mKn\u001b[49m\u001b[38;5;241;43m.\u001b[39;49m\u001b[43mflatten\u001b[49m\u001b[43m(\u001b[49m\u001b[43m)\u001b[49m\u001b[43m)\u001b[49m\n",
      "File \u001b[0;32m/opt/miniconda3/envs/rcphy/lib/python3.12/site-packages/matplotlib/pyplot.py:3903\u001b[0m, in \u001b[0;36mscatter\u001b[0;34m(x, y, s, c, marker, cmap, norm, vmin, vmax, alpha, linewidths, edgecolors, plotnonfinite, data, **kwargs)\u001b[0m\n\u001b[1;32m   3884\u001b[0m \u001b[38;5;129m@_copy_docstring_and_deprecators\u001b[39m(Axes\u001b[38;5;241m.\u001b[39mscatter)\n\u001b[1;32m   3885\u001b[0m \u001b[38;5;28;01mdef\u001b[39;00m \u001b[38;5;21mscatter\u001b[39m(\n\u001b[1;32m   3886\u001b[0m     x: \u001b[38;5;28mfloat\u001b[39m \u001b[38;5;241m|\u001b[39m ArrayLike,\n\u001b[0;32m   (...)\u001b[0m\n\u001b[1;32m   3901\u001b[0m     \u001b[38;5;241m*\u001b[39m\u001b[38;5;241m*\u001b[39mkwargs,\n\u001b[1;32m   3902\u001b[0m ) \u001b[38;5;241m-\u001b[39m\u001b[38;5;241m>\u001b[39m PathCollection:\n\u001b[0;32m-> 3903\u001b[0m     __ret \u001b[38;5;241m=\u001b[39m \u001b[43mgca\u001b[49m\u001b[43m(\u001b[49m\u001b[43m)\u001b[49m\u001b[38;5;241;43m.\u001b[39;49m\u001b[43mscatter\u001b[49m\u001b[43m(\u001b[49m\n\u001b[1;32m   3904\u001b[0m \u001b[43m        \u001b[49m\u001b[43mx\u001b[49m\u001b[43m,\u001b[49m\n\u001b[1;32m   3905\u001b[0m \u001b[43m        \u001b[49m\u001b[43my\u001b[49m\u001b[43m,\u001b[49m\n\u001b[1;32m   3906\u001b[0m \u001b[43m        \u001b[49m\u001b[43ms\u001b[49m\u001b[38;5;241;43m=\u001b[39;49m\u001b[43ms\u001b[49m\u001b[43m,\u001b[49m\n\u001b[1;32m   3907\u001b[0m \u001b[43m        \u001b[49m\u001b[43mc\u001b[49m\u001b[38;5;241;43m=\u001b[39;49m\u001b[43mc\u001b[49m\u001b[43m,\u001b[49m\n\u001b[1;32m   3908\u001b[0m \u001b[43m        \u001b[49m\u001b[43mmarker\u001b[49m\u001b[38;5;241;43m=\u001b[39;49m\u001b[43mmarker\u001b[49m\u001b[43m,\u001b[49m\n\u001b[1;32m   3909\u001b[0m \u001b[43m        \u001b[49m\u001b[43mcmap\u001b[49m\u001b[38;5;241;43m=\u001b[39;49m\u001b[43mcmap\u001b[49m\u001b[43m,\u001b[49m\n\u001b[1;32m   3910\u001b[0m \u001b[43m        \u001b[49m\u001b[43mnorm\u001b[49m\u001b[38;5;241;43m=\u001b[39;49m\u001b[43mnorm\u001b[49m\u001b[43m,\u001b[49m\n\u001b[1;32m   3911\u001b[0m \u001b[43m        \u001b[49m\u001b[43mvmin\u001b[49m\u001b[38;5;241;43m=\u001b[39;49m\u001b[43mvmin\u001b[49m\u001b[43m,\u001b[49m\n\u001b[1;32m   3912\u001b[0m \u001b[43m        \u001b[49m\u001b[43mvmax\u001b[49m\u001b[38;5;241;43m=\u001b[39;49m\u001b[43mvmax\u001b[49m\u001b[43m,\u001b[49m\n\u001b[1;32m   3913\u001b[0m \u001b[43m        \u001b[49m\u001b[43malpha\u001b[49m\u001b[38;5;241;43m=\u001b[39;49m\u001b[43malpha\u001b[49m\u001b[43m,\u001b[49m\n\u001b[1;32m   3914\u001b[0m \u001b[43m        \u001b[49m\u001b[43mlinewidths\u001b[49m\u001b[38;5;241;43m=\u001b[39;49m\u001b[43mlinewidths\u001b[49m\u001b[43m,\u001b[49m\n\u001b[1;32m   3915\u001b[0m \u001b[43m        \u001b[49m\u001b[43medgecolors\u001b[49m\u001b[38;5;241;43m=\u001b[39;49m\u001b[43medgecolors\u001b[49m\u001b[43m,\u001b[49m\n\u001b[1;32m   3916\u001b[0m \u001b[43m        \u001b[49m\u001b[43mplotnonfinite\u001b[49m\u001b[38;5;241;43m=\u001b[39;49m\u001b[43mplotnonfinite\u001b[49m\u001b[43m,\u001b[49m\n\u001b[1;32m   3917\u001b[0m \u001b[43m        \u001b[49m\u001b[38;5;241;43m*\u001b[39;49m\u001b[38;5;241;43m*\u001b[39;49m\u001b[43m(\u001b[49m\u001b[43m{\u001b[49m\u001b[38;5;124;43m\"\u001b[39;49m\u001b[38;5;124;43mdata\u001b[39;49m\u001b[38;5;124;43m\"\u001b[39;49m\u001b[43m:\u001b[49m\u001b[43m \u001b[49m\u001b[43mdata\u001b[49m\u001b[43m}\u001b[49m\u001b[43m \u001b[49m\u001b[38;5;28;43;01mif\u001b[39;49;00m\u001b[43m \u001b[49m\u001b[43mdata\u001b[49m\u001b[43m \u001b[49m\u001b[38;5;129;43;01mis\u001b[39;49;00m\u001b[43m \u001b[49m\u001b[38;5;129;43;01mnot\u001b[39;49;00m\u001b[43m \u001b[49m\u001b[38;5;28;43;01mNone\u001b[39;49;00m\u001b[43m \u001b[49m\u001b[38;5;28;43;01melse\u001b[39;49;00m\u001b[43m \u001b[49m\u001b[43m{\u001b[49m\u001b[43m}\u001b[49m\u001b[43m)\u001b[49m\u001b[43m,\u001b[49m\n\u001b[1;32m   3918\u001b[0m \u001b[43m        \u001b[49m\u001b[38;5;241;43m*\u001b[39;49m\u001b[38;5;241;43m*\u001b[39;49m\u001b[43mkwargs\u001b[49m\u001b[43m,\u001b[49m\n\u001b[1;32m   3919\u001b[0m \u001b[43m    \u001b[49m\u001b[43m)\u001b[49m\n\u001b[1;32m   3920\u001b[0m     sci(__ret)\n\u001b[1;32m   3921\u001b[0m     \u001b[38;5;28;01mreturn\u001b[39;00m __ret\n",
      "File \u001b[0;32m/opt/miniconda3/envs/rcphy/lib/python3.12/site-packages/matplotlib/__init__.py:1473\u001b[0m, in \u001b[0;36m_preprocess_data.<locals>.inner\u001b[0;34m(ax, data, *args, **kwargs)\u001b[0m\n\u001b[1;32m   1470\u001b[0m \u001b[38;5;129m@functools\u001b[39m\u001b[38;5;241m.\u001b[39mwraps(func)\n\u001b[1;32m   1471\u001b[0m \u001b[38;5;28;01mdef\u001b[39;00m \u001b[38;5;21minner\u001b[39m(ax, \u001b[38;5;241m*\u001b[39margs, data\u001b[38;5;241m=\u001b[39m\u001b[38;5;28;01mNone\u001b[39;00m, \u001b[38;5;241m*\u001b[39m\u001b[38;5;241m*\u001b[39mkwargs):\n\u001b[1;32m   1472\u001b[0m     \u001b[38;5;28;01mif\u001b[39;00m data \u001b[38;5;129;01mis\u001b[39;00m \u001b[38;5;28;01mNone\u001b[39;00m:\n\u001b[0;32m-> 1473\u001b[0m         \u001b[38;5;28;01mreturn\u001b[39;00m \u001b[43mfunc\u001b[49m\u001b[43m(\u001b[49m\n\u001b[1;32m   1474\u001b[0m \u001b[43m            \u001b[49m\u001b[43max\u001b[49m\u001b[43m,\u001b[49m\n\u001b[1;32m   1475\u001b[0m \u001b[43m            \u001b[49m\u001b[38;5;241;43m*\u001b[39;49m\u001b[38;5;28;43mmap\u001b[39;49m\u001b[43m(\u001b[49m\u001b[43msanitize_sequence\u001b[49m\u001b[43m,\u001b[49m\u001b[43m \u001b[49m\u001b[43margs\u001b[49m\u001b[43m)\u001b[49m\u001b[43m,\u001b[49m\n\u001b[1;32m   1476\u001b[0m \u001b[43m            \u001b[49m\u001b[38;5;241;43m*\u001b[39;49m\u001b[38;5;241;43m*\u001b[39;49m\u001b[43m{\u001b[49m\u001b[43mk\u001b[49m\u001b[43m:\u001b[49m\u001b[43m \u001b[49m\u001b[43msanitize_sequence\u001b[49m\u001b[43m(\u001b[49m\u001b[43mv\u001b[49m\u001b[43m)\u001b[49m\u001b[43m \u001b[49m\u001b[38;5;28;43;01mfor\u001b[39;49;00m\u001b[43m \u001b[49m\u001b[43mk\u001b[49m\u001b[43m,\u001b[49m\u001b[43m \u001b[49m\u001b[43mv\u001b[49m\u001b[43m \u001b[49m\u001b[38;5;129;43;01min\u001b[39;49;00m\u001b[43m \u001b[49m\u001b[43mkwargs\u001b[49m\u001b[38;5;241;43m.\u001b[39;49m\u001b[43mitems\u001b[49m\u001b[43m(\u001b[49m\u001b[43m)\u001b[49m\u001b[43m}\u001b[49m\u001b[43m)\u001b[49m\n\u001b[1;32m   1478\u001b[0m     bound \u001b[38;5;241m=\u001b[39m new_sig\u001b[38;5;241m.\u001b[39mbind(ax, \u001b[38;5;241m*\u001b[39margs, \u001b[38;5;241m*\u001b[39m\u001b[38;5;241m*\u001b[39mkwargs)\n\u001b[1;32m   1479\u001b[0m     auto_label \u001b[38;5;241m=\u001b[39m (bound\u001b[38;5;241m.\u001b[39marguments\u001b[38;5;241m.\u001b[39mget(label_namer)\n\u001b[1;32m   1480\u001b[0m                   \u001b[38;5;129;01mor\u001b[39;00m bound\u001b[38;5;241m.\u001b[39mkwargs\u001b[38;5;241m.\u001b[39mget(label_namer))\n",
      "File \u001b[0;32m/opt/miniconda3/envs/rcphy/lib/python3.12/site-packages/matplotlib/axes/_axes.py:4787\u001b[0m, in \u001b[0;36mAxes.scatter\u001b[0;34m(self, x, y, s, c, marker, cmap, norm, vmin, vmax, alpha, linewidths, edgecolors, plotnonfinite, **kwargs)\u001b[0m\n\u001b[1;32m   4785\u001b[0m y \u001b[38;5;241m=\u001b[39m np\u001b[38;5;241m.\u001b[39mma\u001b[38;5;241m.\u001b[39mravel(y)\n\u001b[1;32m   4786\u001b[0m \u001b[38;5;28;01mif\u001b[39;00m x\u001b[38;5;241m.\u001b[39msize \u001b[38;5;241m!=\u001b[39m y\u001b[38;5;241m.\u001b[39msize:\n\u001b[0;32m-> 4787\u001b[0m     \u001b[38;5;28;01mraise\u001b[39;00m \u001b[38;5;167;01mValueError\u001b[39;00m(\u001b[38;5;124m\"\u001b[39m\u001b[38;5;124mx and y must be the same size\u001b[39m\u001b[38;5;124m\"\u001b[39m)\n\u001b[1;32m   4789\u001b[0m \u001b[38;5;28;01mif\u001b[39;00m s \u001b[38;5;129;01mis\u001b[39;00m \u001b[38;5;28;01mNone\u001b[39;00m:\n\u001b[1;32m   4790\u001b[0m     s \u001b[38;5;241m=\u001b[39m (\u001b[38;5;241m20\u001b[39m \u001b[38;5;28;01mif\u001b[39;00m mpl\u001b[38;5;241m.\u001b[39mrcParams[\u001b[38;5;124m'\u001b[39m\u001b[38;5;124m_internal.classic_mode\u001b[39m\u001b[38;5;124m'\u001b[39m] \u001b[38;5;28;01melse\u001b[39;00m\n\u001b[1;32m   4791\u001b[0m          mpl\u001b[38;5;241m.\u001b[39mrcParams[\u001b[38;5;124m'\u001b[39m\u001b[38;5;124mlines.markersize\u001b[39m\u001b[38;5;124m'\u001b[39m] \u001b[38;5;241m*\u001b[39m\u001b[38;5;241m*\u001b[39m \u001b[38;5;241m2.0\u001b[39m)\n",
      "\u001b[0;31mValueError\u001b[0m: x and y must be the same size"
     ]
    },
    {
     "data": {
      "image/png": "[encoded data removed]",
      "text/plain": [
       "<Figure size 640x480 with 1 Axes>"
      ]
     },
     "metadata": {},
     "output_type": "display_data"
    }
   ],
   "source": [
    "alphas = [0.001, 0.5, 10]\n",
    "\n",
    "for alpha in alphas:\n",
    "    solver = KnSolver(alpha=alpha, z=[1], n_max=10, epsilon=1e-10)\n",
    "    \n",
    "    solver.analytic_solution_Kn_at_z(10, z=1)\n",
    "    #Kn = solver.solve_Kn_integral()\n",
    "    #print(Kn.shape)\n",
    "    plt.scatter(np.arange(0, 11), Kn.flatten())"
   ]
  },
  {
   "cell_type": "code",
   "execution_count": 65,
   "metadata": {},
   "outputs": [
    {
     "data": {
      "text/plain": [
       "1e-200"
      ]
     },
     "execution_count": 65,
     "metadata": {},
     "output_type": "execute_result"
    }
   ],
   "source": [
    "1e-200"
   ]
  },
  {
   "cell_type": "code",
   "execution_count": 14,
   "metadata": {},
   "outputs": [],
   "source": [
    "#solver = KnSolver(0.1, np.array([1, 2, 3, 4]), 10, 1e-2)\n",
    "solver = KnSolver(1e-4, np.array([1, 2, 3, 4]), 10, 1e-2)\n"
   ]
  },
  {
   "cell_type": "code",
   "execution_count": 22,
   "metadata": {},
   "outputs": [
    {
     "name": "stdout",
     "output_type": "stream",
     "text": [
      "Number of iterations: 2\n",
      "-0.0001\n",
      "-0.0001\n",
      "Number of iterations: 2\n",
      "-5e-05\n",
      "-5e-05\n",
      "Number of iterations: 2\n",
      "-3.3333333333333335e-05\n",
      "-3.3333333333333335e-05\n",
      "Number of iterations: 2\n",
      "-2.5e-05\n",
      "-2.5e-05\n",
      "Number of iterations: 2\n",
      "-0.0001\n",
      "-0.0001\n",
      "Number of iterations: 2\n",
      "-5e-05\n",
      "-5e-05\n",
      "Number of iterations: 2\n",
      "-3.3333333333333335e-05\n",
      "-3.3333333333333335e-05\n",
      "Number of iterations: 2\n",
      "-2.5e-05\n",
      "-2.5e-05\n",
      "Number of iterations: 2\n",
      "-0.0001\n",
      "-0.0001\n",
      "Number of iterations: 2\n",
      "-5e-05\n",
      "-5e-05\n",
      "Number of iterations: 2\n",
      "-3.3333333333333335e-05\n",
      "-3.3333333333333335e-05\n",
      "Number of iterations: 2\n",
      "-2.5e-05\n",
      "-2.5e-05\n",
      "Number of iterations: 2\n",
      "-0.0001\n",
      "-0.0001\n",
      "Number of iterations: 2\n",
      "-5e-05\n",
      "-5e-05\n",
      "Number of iterations: 2\n",
      "-3.3333333333333335e-05\n",
      "-3.3333333333333335e-05\n",
      "Number of iterations: 2\n",
      "-2.5e-05\n",
      "-2.5e-05\n",
      "Number of iterations: 2\n",
      "-0.0001\n",
      "-0.0001\n",
      "Number of iterations: 2\n",
      "-5e-05\n",
      "-5e-05\n",
      "Number of iterations: 2\n",
      "-3.3333333333333335e-05\n",
      "-3.3333333333333335e-05\n",
      "Number of iterations: 2\n",
      "-2.5e-05\n",
      "-2.5e-05\n",
      "Number of iterations: 2\n",
      "-0.0001\n",
      "-0.0001\n",
      "Number of iterations: 2\n",
      "-5e-05\n",
      "-5e-05\n",
      "Number of iterations: 2\n",
      "-3.3333333333333335e-05\n",
      "-3.3333333333333335e-05\n",
      "Number of iterations: 2\n",
      "-2.5e-05\n",
      "-2.5e-05\n",
      "Number of iterations: 2\n",
      "-0.0001\n",
      "-0.0001\n",
      "Number of iterations: 2\n",
      "-5e-05\n",
      "-5e-05\n",
      "Number of iterations: 2\n",
      "-3.3333333333333335e-05\n",
      "-3.3333333333333335e-05\n",
      "Number of iterations: 2\n",
      "-2.5e-05\n",
      "-2.5e-05\n",
      "Number of iterations: 2\n",
      "-0.0001\n",
      "-0.0001\n",
      "Number of iterations: 2\n",
      "-5e-05\n",
      "-5e-05\n",
      "Number of iterations: 2\n",
      "-3.3333333333333335e-05\n",
      "-3.3333333333333335e-05\n",
      "Number of iterations: 2\n",
      "-2.5e-05\n",
      "-2.5e-05\n",
      "Number of iterations: 2\n",
      "-0.0001\n",
      "-0.0001\n",
      "Number of iterations: 2\n",
      "-5e-05\n",
      "-5e-05\n",
      "Number of iterations: 2\n",
      "-3.3333333333333335e-05\n",
      "-3.3333333333333335e-05\n",
      "Number of iterations: 2\n",
      "-2.5e-05\n",
      "-2.5e-05\n",
      "Number of iterations: 2\n",
      "-0.0001\n",
      "-0.0001\n",
      "Number of iterations: 2\n",
      "-5e-05\n",
      "-5e-05\n",
      "Number of iterations: 2\n",
      "-3.3333333333333335e-05\n",
      "-3.3333333333333335e-05\n",
      "Number of iterations: 2\n",
      "-2.5e-05\n",
      "-2.5e-05\n"
     ]
    }
   ],
   "source": [
    "hist = test = solver.solve_analytically()"
   ]
  }
 ],
 "metadata": {
  "kernelspec": {
   "display_name": "rcphy",
   "language": "python",
   "name": "python3"
  },
  "language_info": {
   "codemirror_mode": {
    "name": "ipython",
    "version": 3
   },
   "file_extension": ".py",
   "mimetype": "text/x-python",
   "name": "python",
   "nbconvert_exporter": "python",
   "pygments_lexer": "ipython3",
   "version": "3.12.5"
  }
 },
 "nbformat": 4,
 "nbformat_minor": 2
}

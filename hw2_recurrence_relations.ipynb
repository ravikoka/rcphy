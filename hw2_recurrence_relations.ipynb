{
 "cells": [
  {
   "cell_type": "code",
   "execution_count": 4,
   "metadata": {},
   "outputs": [],
   "source": [
    "import numpy as np\n",
    "import matplotlib.pyplot as plt\n",
    "import scipy.integrate as integrate\n",
    "from numba import njit"
   ]
  },
  {
   "cell_type": "code",
   "execution_count": 2,
   "metadata": {},
   "outputs": [
    {
     "data": {
      "text/plain": [
       "'module://matplotlib_inline.backend_inline'"
      ]
     },
     "execution_count": 2,
     "metadata": {},
     "output_type": "execute_result"
    }
   ],
   "source": [
    "import matplotlib\n",
    "matplotlib.get_backend()"
   ]
  },
  {
   "cell_type": "markdown",
   "metadata": {},
   "source": [
    "try with generators https://realpython.com/introduction-to-python-generators/"
   ]
  },
  {
   "cell_type": "markdown",
   "metadata": {},
   "source": [
    "normalizing only works for linear homog recurrence relation.\n",
    "\n",
    "get recurrence relation.\n",
    "\n",
    "numerical integration gets computationally expensive bc a lot of n, alpha, x combinations\n",
    "\n",
    "so use recurrence. know K0 analytically from integral bc simple to evaluate. \n",
    "\n",
    "recurrence relation is linear but not homogeneous. could maybe guess particular solution so that we can use bessel function method.\n",
    "\n",
    "$\\alpha / z$ sets critical value for when to use upwards vs downwards recurrence. set this critical value at 1/2. could reduce this number.\n",
    "\n",
    "for downward recurrence, use power series to get Kn,max. this is expensive, but it allows us to get many others in the recurrence relation for cheap. cost is upfront. coefficients in power series are small. could use numpy integrator but with this way we can control accuracy by adding more terms. \n",
    "\n",
    "there is an analytic solution in terms of a power series. we can use this to check.\n",
    "\n",
    "can also use scipy integrate to check work.\n",
    "\n",
    "for homework, calculate n=0 to 10. and for several alpha/z\n",
    "\n",
    "plot Ks together.\n",
    "\n",
    "fxn of z alpha n\n",
    "set epsilon for accuracy. if alpha / z ^ k < epsilon, terminate sum. \n",
    "set 1/2 for critical down/up.\n",
    "if less down\n",
    "    - taylor expand for KN (large N), then go down. keep going until abs value is small. xn=1 ; for m in large number (x_n / z)/(n+m+1). just a taylor series\n",
    "    - then can just do downward recursion\n",
    "\n",
    "if greater up: simple. return Kn\n",
    "\n",
    "plot for all n from 1 to 10\n",
    "compare different alpha/z values plotting might be weird bc one might be much larger than others\n",
    "alpha/z = 0.1 0.2 0.3 0.5\n",
    "\n"
   ]
  },
  {
   "cell_type": "code",
   "execution_count": 64,
   "metadata": {},
   "outputs": [],
   "source": [
    "class KnSolver:\n",
    "    def __init__(self, alpha, z, n_max, epsilon):\n",
    "        self._alpha = alpha\n",
    "        self._z = z\n",
    "        self._epsilon = epsilon\n",
    "        self._n_max = n_max\n",
    "        self._critical_ratio = 0.5\n",
    "        \n",
    "    def calculate_K_zero(self):\n",
    "        return (1 / self._alpha) * np.log(1 + self._alpha / self._z)\n",
    "    \n",
    "    def _calculate_K_zero_at_z(self, z):\n",
    "        return (1 / self._alpha) * np.log(1 + self._alpha / z)\n",
    "    \n",
    "    #@staticmethod\n",
    "    #@njit\n",
    "    def analytic_solution_Kn_at_z(self, n, z):\n",
    "        \n",
    "        k = 1\n",
    "        coefficient = 1\n",
    "        sum = 0\n",
    "        max_iter = 100000\n",
    "        while np.abs(coefficient) > self._epsilon:\n",
    "            coefficient = (-self._alpha / z)**k \n",
    "            sum += coefficient / k\n",
    "            k += 1\n",
    "            \n",
    "            if k > max_iter:\n",
    "                print(f'Warning: exceeding {max_iter} iterations.')\n",
    "                break\n",
    "        print(f'Number of iterations: {k}')\n",
    "        print(sum)\n",
    "        print(coefficient)\n",
    "\n",
    "        return (-z/self._alpha)**n * (self._calculate_K_zero_at_z(z) + sum / self._alpha)\n",
    "    \n",
    "    \n",
    "    def upwards_recurrence(self):\n",
    "        Kn = self.calculate_K_zero()\n",
    "        \n",
    "        Kn_history = np.zeros((self._n_max, len(self._z)))\n",
    "        \n",
    "        for n in range(self._n_max):\n",
    "            Kn_history[n, :] = Kn\n",
    "            Kn = 1/(self._alpha * (n + 1)) - (self._z / self._alpha) * Kn\n",
    "        \n",
    "        return Kn_history\n",
    "    \n",
    "    def downwards_recurrence(self):\n",
    "        Kn_max = np.array([self.analytic_solution_Kn_at_z(self._n_max, z) for z in self._z])\n",
    "        Kn_history = np.zeros((self._n_max + 1, len(self._z)))\n",
    "        Kn_history[-1, :] = Kn_max\n",
    "        print(Kn_history)\n",
    "        \n",
    "        Kn = Kn_max\n",
    "        for n in range(self._n_max - 1, -1, -1):\n",
    "            print(f'fK{n} is {Kn}')\n",
    "            Kn = (-self._alpha / self._z) * (Kn - 1/(self._alpha * (n + 1)))\n",
    "            Kn_history[self._n_max - n, :] = Kn\n",
    "\n",
    "        return Kn_history\n",
    "    \n",
    "    \n",
    "    def solve_Kn_integral(self):\n",
    "        def integrand(x, z, alpha, n):\n",
    "            return x**n / (z + alpha * x)\n",
    "        \n",
    "        Kn_history = np.zeros((self._n_max, len(self._z)))\n",
    "    \n",
    "        for n in range(self._n_max):\n",
    "            for i, z in enumerate(self._z):    \n",
    "                Kn_history[n, i] = integrate.quad(integrand, 0, 1, args=(z, self._alpha, n))[0]\n",
    "        \n",
    "        return Kn_history\n",
    "    \n",
    "    \n",
    "    def taylor_approximate_Kn(self, n, z):\n",
    "        \n",
    "        coefficient = 1\n",
    "        k = 0\n",
    "        sum = 0\n",
    "        max_iter = 100000\n",
    "        while np.abs(coefficient) > self._epsilon:\n",
    "            coefficient = (-self._alpha / z)**k \n",
    "            sum += coefficient / (n + k + 1)\n",
    "            k += 1 \n",
    "            \n",
    "            if k > max_iter:\n",
    "                print(f'Warning: exceeding {max_iter} iterations.')\n",
    "                break\n",
    "        print(f'Number of iterations: {k}')\n",
    "        return sum / z\n",
    "    \n",
    "    def solve_analytically(self):\n",
    "        #Kn_history = np.zeros((self._n_max, len(self._z)))\n",
    "        Kn_history = np.array([[self.analytic_solution_Kn_at_z(n, z) for z in self._z] for n in range(self._n_max)])\n",
    "        \n",
    "        return Kn_history\n",
    "        \n",
    "    \n",
    "    def calculate_Kn(self):\n",
    "        \n",
    "        # if alpha /z down\n",
    "        # if alopha / up\n",
    "        \n",
    "        \n",
    "        \n",
    "        #if np.abs(self._alpha / self._z)\n",
    "        \n",
    "        raise NotImplementedError\n",
    "        \n",
    "    "
   ]
  },
  {
   "cell_type": "code",
   "execution_count": 65,
   "metadata": {},
   "outputs": [
    {
     "data": {
      "text/plain": [
       "1e-200"
      ]
     },
     "execution_count": 65,
     "metadata": {},
     "output_type": "execute_result"
    }
   ],
   "source": [
    "1e-200"
   ]
  },
  {
   "cell_type": "code",
   "execution_count": 66,
   "metadata": {},
   "outputs": [],
   "source": [
    "#solver = KnSolver(0.1, np.array([1, 2, 3, 4]), 10, 1e-2)\n",
    "solver = KnSolver(1e-4, np.array([1, 2, 3, 4]), 10, 1e-2)\n"
   ]
  },
  {
   "cell_type": "code",
   "execution_count": 67,
   "metadata": {},
   "outputs": [
    {
     "name": "stdout",
     "output_type": "stream",
     "text": [
      "Number of iterations: 2\n",
      "-0.0001\n",
      "-0.0001\n",
      "Number of iterations: 2\n",
      "-5e-05\n",
      "-5e-05\n",
      "Number of iterations: 2\n",
      "-3.3333333333333335e-05\n",
      "-3.3333333333333335e-05\n",
      "Number of iterations: 2\n",
      "-2.5e-05\n",
      "-2.5e-05\n",
      "Number of iterations: 2\n",
      "-0.0001\n",
      "-0.0001\n",
      "Number of iterations: 2\n",
      "-5e-05\n",
      "-5e-05\n",
      "Number of iterations: 2\n",
      "-3.3333333333333335e-05\n",
      "-3.3333333333333335e-05\n",
      "Number of iterations: 2\n",
      "-2.5e-05\n",
      "-2.5e-05\n",
      "Number of iterations: 2\n",
      "-0.0001\n",
      "-0.0001\n",
      "Number of iterations: 2\n",
      "-5e-05\n",
      "-5e-05\n",
      "Number of iterations: 2\n",
      "-3.3333333333333335e-05\n",
      "-3.3333333333333335e-05\n",
      "Number of iterations: 2\n",
      "-2.5e-05\n",
      "-2.5e-05\n",
      "Number of iterations: 2\n",
      "-0.0001\n",
      "-0.0001\n",
      "Number of iterations: 2\n",
      "-5e-05\n",
      "-5e-05\n",
      "Number of iterations: 2\n",
      "-3.3333333333333335e-05\n",
      "-3.3333333333333335e-05\n",
      "Number of iterations: 2\n",
      "-2.5e-05\n",
      "-2.5e-05\n",
      "Number of iterations: 2\n",
      "-0.0001\n",
      "-0.0001\n",
      "Number of iterations: 2\n",
      "-5e-05\n",
      "-5e-05\n",
      "Number of iterations: 2\n",
      "-3.3333333333333335e-05\n",
      "-3.3333333333333335e-05\n",
      "Number of iterations: 2\n",
      "-2.5e-05\n",
      "-2.5e-05\n",
      "Number of iterations: 2\n",
      "-0.0001\n",
      "-0.0001\n",
      "Number of iterations: 2\n",
      "-5e-05\n",
      "-5e-05\n",
      "Number of iterations: 2\n",
      "-3.3333333333333335e-05\n",
      "-3.3333333333333335e-05\n",
      "Number of iterations: 2\n",
      "-2.5e-05\n",
      "-2.5e-05\n",
      "Number of iterations: 2\n",
      "-0.0001\n",
      "-0.0001\n",
      "Number of iterations: 2\n",
      "-5e-05\n",
      "-5e-05\n",
      "Number of iterations: 2\n",
      "-3.3333333333333335e-05\n",
      "-3.3333333333333335e-05\n",
      "Number of iterations: 2\n",
      "-2.5e-05\n",
      "-2.5e-05\n",
      "Number of iterations: 2\n",
      "-0.0001\n",
      "-0.0001\n",
      "Number of iterations: 2\n",
      "-5e-05\n",
      "-5e-05\n",
      "Number of iterations: 2\n",
      "-3.3333333333333335e-05\n",
      "-3.3333333333333335e-05\n",
      "Number of iterations: 2\n",
      "-2.5e-05\n",
      "-2.5e-05\n",
      "Number of iterations: 2\n",
      "-0.0001\n",
      "-0.0001\n",
      "Number of iterations: 2\n",
      "-5e-05\n",
      "-5e-05\n",
      "Number of iterations: 2\n",
      "-3.3333333333333335e-05\n",
      "-3.3333333333333335e-05\n",
      "Number of iterations: 2\n",
      "-2.5e-05\n",
      "-2.5e-05\n",
      "Number of iterations: 2\n",
      "-0.0001\n",
      "-0.0001\n",
      "Number of iterations: 2\n",
      "-5e-05\n",
      "-5e-05\n",
      "Number of iterations: 2\n",
      "-3.3333333333333335e-05\n",
      "-3.3333333333333335e-05\n",
      "Number of iterations: 2\n",
      "-2.5e-05\n",
      "-2.5e-05\n"
     ]
    }
   ],
   "source": [
    "hist = test = solver.solve_analytically()"
   ]
  },
  {
   "cell_type": "code",
   "execution_count": 68,
   "metadata": {},
   "outputs": [
    {
     "data": {
      "text/plain": [
       "array([[-4.99966670e-05, -1.24995823e-05, -5.55543214e-06,\n",
       "        -3.12494850e-06],\n",
       "       [ 4.99966670e-01,  2.49991646e-01,  1.66662964e-01,\n",
       "         1.24997940e-01],\n",
       "       [-4.99966670e+03, -4.99983292e+03, -4.99988892e+03,\n",
       "        -4.99991760e+03],\n",
       "       [ 4.99966670e+07,  9.99966584e+07,  1.49996668e+08,\n",
       "         1.99996704e+08],\n",
       "       [-4.99966670e+11, -1.99993317e+12, -4.49990003e+12,\n",
       "        -7.99986816e+12],\n",
       "       [ 4.99966670e+15,  3.99986633e+16,  1.34997001e+17,\n",
       "         3.19994726e+17],\n",
       "       [-4.99966670e+19, -7.99973267e+20, -4.04991003e+21,\n",
       "        -1.27997891e+22],\n",
       "       [ 4.99966670e+23,  1.59994653e+25,  1.21497301e+26,\n",
       "         5.11991562e+26],\n",
       "       [-4.99966670e+27, -3.19989307e+29, -3.64491903e+30,\n",
       "        -2.04796625e+31],\n",
       "       [ 4.99966670e+31,  6.39978613e+33,  1.09347571e+35,\n",
       "         8.19186500e+35]])"
      ]
     },
     "execution_count": 68,
     "metadata": {},
     "output_type": "execute_result"
    }
   ],
   "source": [
    "hist"
   ]
  },
  {
   "cell_type": "code",
   "execution_count": 69,
   "metadata": {},
   "outputs": [
    {
     "data": {
      "text/plain": [
       "array([[-4.99966670e-05, -1.24995823e-05, -5.55543214e-06,\n",
       "        -3.12494850e-06],\n",
       "       [ 4.99966670e-01,  2.49991646e-01,  1.66662964e-01,\n",
       "         1.24997940e-01],\n",
       "       [-4.99966670e+03, -4.99983292e+03, -4.99988892e+03,\n",
       "        -4.99991760e+03],\n",
       "       [ 4.99966670e+07,  9.99966584e+07,  1.49996668e+08,\n",
       "         1.99996704e+08],\n",
       "       [-4.99966670e+11, -1.99993317e+12, -4.49990003e+12,\n",
       "        -7.99986816e+12],\n",
       "       [ 4.99966670e+15,  3.99986633e+16,  1.34997001e+17,\n",
       "         3.19994726e+17],\n",
       "       [-4.99966670e+19, -7.99973267e+20, -4.04991003e+21,\n",
       "        -1.27997891e+22],\n",
       "       [ 4.99966670e+23,  1.59994653e+25,  1.21497301e+26,\n",
       "         5.11991562e+26],\n",
       "       [-4.99966670e+27, -3.19989307e+29, -3.64491903e+30,\n",
       "        -2.04796625e+31],\n",
       "       [ 4.99966670e+31,  6.39978613e+33,  1.09347571e+35,\n",
       "         8.19186500e+35]])"
      ]
     },
     "execution_count": 69,
     "metadata": {},
     "output_type": "execute_result"
    }
   ],
   "source": [
    "test"
   ]
  },
  {
   "cell_type": "code",
   "execution_count": 70,
   "metadata": {},
   "outputs": [
    {
     "name": "stdout",
     "output_type": "stream",
     "text": [
      "Number of iterations: 2\n"
     ]
    },
    {
     "data": {
      "text/plain": [
       "0.08333177083333333"
      ]
     },
     "execution_count": 70,
     "metadata": {},
     "output_type": "execute_result"
    }
   ],
   "source": [
    "solver.taylor_approximate_Kn(2, 4)"
   ]
  },
  {
   "cell_type": "code",
   "execution_count": 72,
   "metadata": {},
   "outputs": [
    {
     "name": "stdout",
     "output_type": "stream",
     "text": [
      "Number of iterations: 2\n",
      "-2.5e-05\n",
      "-2.5e-05\n"
     ]
    },
    {
     "data": {
      "text/plain": [
       "-4999.9176004345"
      ]
     },
     "execution_count": 72,
     "metadata": {},
     "output_type": "execute_result"
    }
   ],
   "source": [
    "solver.analytic_solution_Kn_at_z(2, 4)"
   ]
  },
  {
   "cell_type": "code",
   "execution_count": 60,
   "metadata": {},
   "outputs": [],
   "source": [
    "Kn_history = solver.upwards_recurrence()"
   ]
  },
  {
   "cell_type": "code",
   "execution_count": 61,
   "metadata": {},
   "outputs": [
    {
     "name": "stdout",
     "output_type": "stream",
     "text": [
      "[[ 9.99950003e-01  4.99987500e-01  3.33327778e-01  2.49996875e-01]\n",
      " [ 4.99966670e-01  2.49991646e-01  1.66662964e-01  1.24997940e-01]\n",
      " [ 3.33297321e-01  1.67082435e-01  1.11075296e-01  8.23995651e-02]\n",
      " [ 3.60122843e-01 -8.31536522e+00  1.07443998e+00  3.73507276e+01]\n",
      " [-1.10122843e+03  1.68807304e+05 -2.97331995e+04 -1.49152910e+06]\n",
      " [ 1.10142843e+07 -3.37614409e+09  8.91997984e+08  5.96611661e+10]\n",
      " [-1.10142841e+11  6.75228817e+13 -2.67599395e+13 -2.38644664e+15]\n",
      " [ 1.10142841e+15 -1.35045763e+18  8.02798185e+17  9.54578657e+19]\n",
      " [-1.10142841e+19  2.70091527e+22 -2.40839456e+22 -3.81831463e+24]\n",
      " [ 1.10142841e+23 -5.40183054e+26  7.22518367e+26  1.52732585e+29]]\n"
     ]
    }
   ],
   "source": [
    "print(Kn_history)"
   ]
  },
  {
   "cell_type": "code",
   "execution_count": 62,
   "metadata": {},
   "outputs": [
    {
     "ename": "AttributeError",
     "evalue": "'KnSolver' object has no attribute 'analytic_solution_Kn'",
     "output_type": "error",
     "traceback": [
      "\u001b[0;31m---------------------------------------------------------------------------\u001b[0m",
      "\u001b[0;31mAttributeError\u001b[0m                            Traceback (most recent call last)",
      "Cell \u001b[0;32mIn[62], line 1\u001b[0m\n\u001b[0;32m----> 1\u001b[0m Kn_history_down \u001b[38;5;241m=\u001b[39m \u001b[43msolver\u001b[49m\u001b[38;5;241;43m.\u001b[39;49m\u001b[43mdownwards_recurrence\u001b[49m\u001b[43m(\u001b[49m\u001b[43m)\u001b[49m\n",
      "Cell \u001b[0;32mIn[55], line 50\u001b[0m, in \u001b[0;36mKnSolver.downwards_recurrence\u001b[0;34m(self)\u001b[0m\n\u001b[1;32m     49\u001b[0m \u001b[38;5;28;01mdef\u001b[39;00m \u001b[38;5;21mdownwards_recurrence\u001b[39m(\u001b[38;5;28mself\u001b[39m):\n\u001b[0;32m---> 50\u001b[0m     Kn_max \u001b[38;5;241m=\u001b[39m np\u001b[38;5;241m.\u001b[39marray([\u001b[38;5;28;43mself\u001b[39;49m\u001b[38;5;241;43m.\u001b[39;49m\u001b[43manalytic_solution_Kn\u001b[49m(\u001b[38;5;28mself\u001b[39m\u001b[38;5;241m.\u001b[39m_n_max, z) \u001b[38;5;28;01mfor\u001b[39;00m z \u001b[38;5;129;01min\u001b[39;00m \u001b[38;5;28mself\u001b[39m\u001b[38;5;241m.\u001b[39m_z])\n\u001b[1;32m     51\u001b[0m     Kn_history \u001b[38;5;241m=\u001b[39m np\u001b[38;5;241m.\u001b[39mzeros((\u001b[38;5;28mself\u001b[39m\u001b[38;5;241m.\u001b[39m_n_max \u001b[38;5;241m+\u001b[39m \u001b[38;5;241m1\u001b[39m, \u001b[38;5;28mlen\u001b[39m(\u001b[38;5;28mself\u001b[39m\u001b[38;5;241m.\u001b[39m_z)))\n\u001b[1;32m     52\u001b[0m     Kn_history[\u001b[38;5;241m-\u001b[39m\u001b[38;5;241m1\u001b[39m, :] \u001b[38;5;241m=\u001b[39m Kn_max\n",
      "\u001b[0;31mAttributeError\u001b[0m: 'KnSolver' object has no attribute 'analytic_solution_Kn'"
     ]
    }
   ],
   "source": [
    "Kn_history_down = solver.downwards_recurrence()"
   ]
  },
  {
   "cell_type": "code",
   "execution_count": 63,
   "metadata": {},
   "outputs": [
    {
     "data": {
      "text/plain": [
       "array([[ 0.00000000e+00,  0.00000000e+00,  0.00000000e+00,\n",
       "         0.00000000e+00],\n",
       "       [ 4.99966670e+31,  6.39978613e+33,  1.09347571e+35,\n",
       "         8.19186500e+35],\n",
       "       [-4.99966670e+27, -3.19989307e+29, -3.64491903e+30,\n",
       "        -2.04796625e+31],\n",
       "       [ 4.99966670e+23,  1.59994653e+25,  1.21497301e+26,\n",
       "         5.11991562e+26],\n",
       "       [-4.99966670e+19, -7.99973267e+20, -4.04991003e+21,\n",
       "        -1.27997891e+22],\n",
       "       [ 4.99966670e+15,  3.99986633e+16,  1.34997001e+17,\n",
       "         3.19994726e+17],\n",
       "       [-4.99966670e+11, -1.99993317e+12, -4.49990003e+12,\n",
       "        -7.99986816e+12],\n",
       "       [ 4.99966673e+07,  9.99966585e+07,  1.49996668e+08,\n",
       "         1.99996704e+08],\n",
       "       [-4.99933339e+03, -4.99966626e+03, -4.99977782e+03,\n",
       "        -4.99983427e+03],\n",
       "       [ 9.99933339e-01,  4.99983313e-01,  3.33325927e-01,\n",
       "         2.49995857e-01],\n",
       "       [ 9.99900007e-01,  4.99975001e-01,  3.33322222e-01,\n",
       "         2.49993750e-01]])"
      ]
     },
     "execution_count": 63,
     "metadata": {},
     "output_type": "execute_result"
    }
   ],
   "source": [
    "Kn_history_down"
   ]
  },
  {
   "cell_type": "code",
   "execution_count": 31,
   "metadata": {},
   "outputs": [
    {
     "data": {
      "text/plain": [
       "array([[0.99995   , 0.4999875 , 0.33332778, 0.24999688],\n",
       "       [0.49996667, 0.24999167, 0.16666296, 0.12499792],\n",
       "       [0.33330834, 0.16666042, 0.11110833, 0.08333177],\n",
       "       [0.24998   , 0.124995  , 0.08333111, 0.06249875],\n",
       "       [0.19998333, 0.09999583, 0.06666481, 0.04999896],\n",
       "       [0.16665238, 0.08332976, 0.05555397, 0.04166577],\n",
       "       [0.14284464, 0.07142545, 0.04761766, 0.0357135 ],\n",
       "       [0.12498889, 0.06249722, 0.04166543, 0.03124931],\n",
       "       [0.11110111, 0.05555306, 0.03703593, 0.02777715],\n",
       "       [0.09999091, 0.04999773, 0.03333232, 0.02499943]])"
      ]
     },
     "execution_count": 31,
     "metadata": {},
     "output_type": "execute_result"
    }
   ],
   "source": [
    "solver.solve_Kn_integral()"
   ]
  },
  {
   "cell_type": "code",
   "execution_count": null,
   "metadata": {},
   "outputs": [],
   "source": []
  }
 ],
 "metadata": {
  "kernelspec": {
   "display_name": "rcphy",
   "language": "python",
   "name": "python3"
  },
  "language_info": {
   "codemirror_mode": {
    "name": "ipython",
    "version": 3
   },
   "file_extension": ".py",
   "mimetype": "text/x-python",
   "name": "python",
   "nbconvert_exporter": "python",
   "pygments_lexer": "ipython3",
   "version": "3.12.5"
  }
 },
 "nbformat": 4,
 "nbformat_minor": 2
}

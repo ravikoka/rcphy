{
 "cells": [
  {
   "cell_type": "code",
   "execution_count": 127,
   "metadata": {},
   "outputs": [],
   "source": [
    "import numpy as np\n",
    "import matplotlib.pyplot as plt\n",
    "import scipy.integrate as integrate\n",
    "from numba import njit"
   ]
  },
  {
   "cell_type": "code",
   "execution_count": 2,
   "metadata": {},
   "outputs": [
    {
     "data": {
      "text/plain": [
       "'module://matplotlib_inline.backend_inline'"
      ]
     },
     "execution_count": 2,
     "metadata": {},
     "output_type": "execute_result"
    }
   ],
   "source": [
    "import matplotlib\n",
    "matplotlib.get_backend()"
   ]
  },
  {
   "cell_type": "markdown",
   "metadata": {},
   "source": [
    "try with generators https://realpython.com/introduction-to-python-generators/"
   ]
  },
  {
   "cell_type": "markdown",
   "metadata": {},
   "source": [
    "normalizing only works for linear homog recurrence relation.\n",
    "\n",
    "get recurrence relation.\n",
    "\n",
    "numerical integration gets computationally expensive bc a lot of n, alpha, x combinations\n",
    "\n",
    "so use recurrence. know K0 analytically from integral bc simple to evaluate. \n",
    "\n",
    "recurrence relation is linear but not homogeneous. could maybe guess particular solution so that we can use bessel function method.\n",
    "\n",
    "$\\alpha / z$ sets critical value for when to use upwards vs downwards recurrence. set this critical value at 1/2. could reduce this number.\n",
    "\n",
    "for downward recurrence, use power series to get Kn,max. this is expensive, but it allows us to get many others in the recurrence relation for cheap. cost is upfront. coefficients in power series are small. could use numpy integrator but with this way we can control accuracy by adding more terms. \n",
    "\n",
    "there is an analytic solution in terms of a power series. we can use this to check.\n",
    "\n",
    "can also use scipy integrate to check work.\n",
    "\n",
    "for homework, calculate n=0 to 10. and for several alpha/z\n",
    "\n",
    "plot Ks together.\n",
    "\n",
    "fxn of z alpha n\n",
    "set epsilon for accuracy. if alpha / z ^ k < epsilon, terminate sum. \n",
    "set 1/2 for critical down/up.\n",
    "if less down\n",
    "    - taylor expand for KN (large N), then go down. keep going until abs value is small. xn=1 ; for m in large number (x_n / z)/(n+m+1). just a taylor series\n",
    "    - then can just do downward recursion\n",
    "\n",
    "if greater up: simple. return Kn\n",
    "\n",
    "plot for all n from 1 to 10\n",
    "compare different alpha/z values plotting might be weird bc one might be much larger than others\n",
    "alpha/z = 0.1 0.2 0.3 0.5\n",
    "\n"
   ]
  },
  {
   "cell_type": "code",
   "execution_count": 149,
   "metadata": {},
   "outputs": [],
   "source": [
    "class KnSolver:\n",
    "    def __init__(self, alpha, z, n_max, epsilon):\n",
    "        self._alpha = alpha\n",
    "        self._z = z\n",
    "        self._epsilon = epsilon\n",
    "        self._n_max = n_max\n",
    "        self._critical_ratio = 0.5\n",
    "        \n",
    "    def calculate_K_zero(self):\n",
    "        return (1 / self._alpha) * np.log(1 + self._alpha / self._z)\n",
    "    \n",
    "    def _calculate_K_zero_at_z(self, z):\n",
    "        return (1 / self._alpha) * np.log(1 + self._alpha / z)\n",
    "    \n",
    "    \n",
    "    def upwards_recurrence(self):\n",
    "        Kn = self.calculate_K_zero()\n",
    "        \n",
    "        Kn_history = np.zeros((self._n_max, len(self._z)))\n",
    "        \n",
    "        for n in range(self._n_max):\n",
    "            Kn_history[n, :] = Kn\n",
    "            Kn = 1/(self._alpha * (n + 1)) - (self._z / self._alpha) * Kn\n",
    "        \n",
    "        return Kn_history\n",
    "    \n",
    "    \n",
    "    def solve_Kn_integral(self):\n",
    "        def integrand(x, z, alpha, n):\n",
    "            return x**n / (z + alpha * x)\n",
    "        \n",
    "        Kn_history = np.zeros((self._n_max, len(self._z)))\n",
    "    \n",
    "        for n in range(self._n_max):\n",
    "            for i, z in enumerate(self._z):    \n",
    "                Kn_history[n, i] = integrate.quad(integrand, 0, 1, args=(z, self._alpha, n))[0]\n",
    "        \n",
    "        return Kn_history\n",
    "    \n",
    "    \n",
    "    def taylor_approximate_Kn(self, n, z):\n",
    "        \n",
    "        coefficient = 1\n",
    "        k = 0\n",
    "        sum = 0\n",
    "        max_iter = 100000\n",
    "        while np.abs(coefficient) > self._epsilon:\n",
    "            coefficient = (-self._alpha / z)**k \n",
    "            sum += coefficient / (n + k + 1)\n",
    "            k += 1 \n",
    "            \n",
    "            if k > max_iter:\n",
    "                print(f'Warning: exceeding {max_iter} iterations.')\n",
    "                break\n",
    "        print(f'Number of iterations: {k}')\n",
    "        return sum / z\n",
    "    \n",
    "    #@staticmethod\n",
    "    #@njit\n",
    "    def analytic_solution_Kn(self, n, z):\n",
    "        \n",
    "        k = 1\n",
    "        coefficient = 1\n",
    "        sum = 0\n",
    "        max_iter = 100000\n",
    "        while np.abs(coefficient) > self._epsilon:\n",
    "            coefficient = (-self._alpha / z)**k \n",
    "            sum += coefficient / k\n",
    "            k += 1\n",
    "            \n",
    "            if k > max_iter:\n",
    "                    print(f'Warning: exceeding {max_iter} iterations.')\n",
    "                    break\n",
    "        print(f'Number of iterations: {k}')\n",
    "        print(sum)\n",
    "        print(coefficient)\n",
    "\n",
    "        return (-z/self._alpha)**n * (self._calculate_K_zero_at_z(z) + sum / self._alpha)\n",
    "            \n",
    "    def calculate_Kn(self):\n",
    "        \n",
    "        # if alpha /z down\n",
    "        # if alopha / up\n",
    "        \n",
    "        raise NotImplementedError\n",
    "        \n",
    "    "
   ]
  },
  {
   "cell_type": "code",
   "execution_count": 150,
   "metadata": {},
   "outputs": [
    {
     "data": {
      "text/plain": [
       "1e-200"
      ]
     },
     "execution_count": 150,
     "metadata": {},
     "output_type": "execute_result"
    }
   ],
   "source": [
    "1e-200"
   ]
  },
  {
   "cell_type": "code",
   "execution_count": 151,
   "metadata": {},
   "outputs": [],
   "source": [
    "solver = KnSolver(0.1, np.array([1, 2, 3, 4]), 10, 1e-2)"
   ]
  },
  {
   "cell_type": "code",
   "execution_count": 152,
   "metadata": {},
   "outputs": [
    {
     "name": "stdout",
     "output_type": "stream",
     "text": [
      "Number of iterations: 3\n"
     ]
    },
    {
     "data": {
      "text/plain": [
       "0.08180208333333333"
      ]
     },
     "execution_count": 152,
     "metadata": {},
     "output_type": "execute_result"
    }
   ],
   "source": [
    "solver.taylor_approximate_Kn(2, 4)"
   ]
  },
  {
   "cell_type": "code",
   "execution_count": 153,
   "metadata": {},
   "outputs": [
    {
     "name": "stdout",
     "output_type": "stream",
     "text": [
      "Number of iterations: 3\n",
      "-0.0246875\n",
      "0.0006250000000000001\n"
     ]
    },
    {
     "data": {
      "text/plain": [
       "0.08180144594263083"
      ]
     },
     "execution_count": 153,
     "metadata": {},
     "output_type": "execute_result"
    }
   ],
   "source": [
    "solver.analytic_solution_Kn(2, 4)"
   ]
  },
  {
   "cell_type": "code",
   "execution_count": 68,
   "metadata": {},
   "outputs": [],
   "source": [
    "Kn_history = solver.upwards_recurrence()"
   ]
  },
  {
   "cell_type": "code",
   "execution_count": 69,
   "metadata": {},
   "outputs": [
    {
     "name": "stdout",
     "output_type": "stream",
     "text": [
      "[[0.9531018  0.48790164 0.32789823 0.24692613]\n",
      " [0.46898202 0.24196717 0.16305315 0.12295496]\n",
      " [0.3101798  0.16065668 0.10840541 0.08180145]\n",
      " [0.23153529 0.12019978 0.08117113 0.0612755 ]\n",
      " [0.1846471  0.09600442 0.06486623 0.04898017]\n",
      " [0.15352901 0.07991151 0.05401319 0.040793  ]\n",
      " [0.13137658 0.06843651 0.04627084 0.03494647]\n",
      " [0.1148056  0.05984115 0.04044618 0.0307127 ]\n",
      " [0.10194398 0.05317703 0.03661465 0.02149212]\n",
      " [0.09167135 0.04757043 0.01267156 0.25142629]]\n"
     ]
    }
   ],
   "source": [
    "print(Kn_history)"
   ]
  },
  {
   "cell_type": "code",
   "execution_count": 70,
   "metadata": {},
   "outputs": [
    {
     "data": {
      "text/plain": [
       "array([[0.9531018 , 0.48790164, 0.32789823, 0.24692613],\n",
       "       [0.46898202, 0.24196717, 0.16305315, 0.12295496],\n",
       "       [0.3101798 , 0.16065668, 0.10840541, 0.08180145],\n",
       "       [0.23153529, 0.12019978, 0.08117113, 0.0612755 ],\n",
       "       [0.1846471 , 0.09600442, 0.06486623, 0.04898018],\n",
       "       [0.15352901, 0.07991151, 0.05401322, 0.04079292],\n",
       "       [0.13137658, 0.06843648, 0.04627011, 0.03495001],\n",
       "       [0.11480561, 0.05984179, 0.04046805, 0.03057083],\n",
       "       [0.10194391, 0.05316421, 0.0359586 , 0.02716666],\n",
       "       [0.09167203, 0.04782684, 0.03235318, 0.02444455]])"
      ]
     },
     "execution_count": 70,
     "metadata": {},
     "output_type": "execute_result"
    }
   ],
   "source": [
    "solver.solve_Kn_integral()"
   ]
  }
 ],
 "metadata": {
  "kernelspec": {
   "display_name": "rcphy",
   "language": "python",
   "name": "python3"
  },
  "language_info": {
   "codemirror_mode": {
    "name": "ipython",
    "version": 3
   },
   "file_extension": ".py",
   "mimetype": "text/x-python",
   "name": "python",
   "nbconvert_exporter": "python",
   "pygments_lexer": "ipython3",
   "version": "3.12.5"
  }
 },
 "nbformat": 4,
 "nbformat_minor": 2
}
